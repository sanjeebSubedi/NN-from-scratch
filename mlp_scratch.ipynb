{
  "nbformat": 4,
  "nbformat_minor": 0,
  "metadata": {
    "colab": {
      "provenance": []
    },
    "kernelspec": {
      "name": "python3",
      "display_name": "Python 3"
    },
    "language_info": {
      "name": "python"
    }
  },
  "cells": [
    {
      "cell_type": "code",
      "execution_count": 1,
      "metadata": {
        "id": "MV0liXgLUkC-"
      },
      "outputs": [],
      "source": [
        "import numpy as np\n",
        "import matplotlib.pyplot as plt\n",
        "import math"
      ]
    },
    {
      "cell_type": "code",
      "source": [
        "class Value:\n",
        "  def __init__(self, data, _parents=()):\n",
        "    self.data = data\n",
        "    self._parents = set(_parents)\n",
        "    self.grad = 0.0\n",
        "    self._backward = lambda: None\n",
        "\n",
        "  def verify_value(self, v):\n",
        "    return v if isinstance(v, Value) else Value(v)\n",
        "\n",
        "  def __add__(self, addend):\n",
        "    addend = self.verify_value(addend)\n",
        "    res = Value(self.data + addend.data, (self, addend))\n",
        "\n",
        "    def _backward():\n",
        "      self.grad += res.grad\n",
        "      addend.grad += res.grad\n",
        "    res._backward = _backward\n",
        "    return res\n",
        "\n",
        "  def __radd__(self, addend):\n",
        "    return self + addend\n",
        "  \n",
        "  def __sub__(self, sh):\n",
        "    return self + (-sh)\n",
        "  \n",
        "  def __mul__(self, multiplier):\n",
        "    multiplier = self.verify_value(multiplier)\n",
        "    res = Value(self.data * multiplier.data, (self, multiplier))\n",
        "    def _backward():\n",
        "      self.grad += multiplier.data * res.grad\n",
        "      multiplier.grad += self.data * res.grad\n",
        "    res._backward = _backward\n",
        "    return res\n",
        "\n",
        "  def __rmul__(self, multiplier):\n",
        "    return self * multiplier\n",
        "\n",
        "  def __truediv__(self, divisor):\n",
        "    return self * divisor**-1\n",
        "  \n",
        "  def __neg__(self):\n",
        "    return self * -1\n",
        "\n",
        "  def __pow__(self, num):\n",
        "    res = Value(self.data**num, (self,))\n",
        "    def _backward():\n",
        "      self.grad += (num*self.data**(num-1)) * res.grad\n",
        "    res._backward = _backward\n",
        "    return res\n",
        "\n",
        "  def tanh(self):\n",
        "    e = math.exp(2*self.data)\n",
        "    e = (e - 1)/(e + 1); res = Value(e, (self,))\n",
        "    def _backward():\n",
        "      self.grad += (1 - e ** 2) * res.grad\n",
        "    res._backward = _backward\n",
        "    return res\n",
        "  \n",
        "  def exp(self):\n",
        "    x = self.data\n",
        "    out = Value(math.exp(x), (self,))\n",
        "\n",
        "    def _backward():\n",
        "      self.grad = out.data * out.grad\n",
        "    out._backward = _backward\n",
        "    return out\n",
        "  \n",
        "  def backward(self):\n",
        "    back_path = []\n",
        "    visited = set()\n",
        "\n",
        "    def back_flood(node):\n",
        "      if node not in visited:\n",
        "        visited.add(node)\n",
        "        for parent in node._parents:\n",
        "          back_flood(parent)\n",
        "        back_path.append(node)\n",
        "    back_flood(self)\n",
        "    self.grad = 1.0\n",
        "    for node in reversed(back_path):\n",
        "      node._backward()\n",
        "\n",
        "  def __repr__(self):\n",
        "    return f\"Value(data={self.data} grad={self.grad})\""
      ],
      "metadata": {
        "id": "MTWXZ1GYUxbM"
      },
      "execution_count": 53,
      "outputs": []
    },
    {
      "cell_type": "code",
      "source": [
        "import random \n",
        "\n",
        "class Neuron:\n",
        "  def __init__(self, num_inputs):\n",
        "    self.weights = [Value(random.uniform(-1, 1)) for _ in range(num_inputs)]\n",
        "    self.bias = Value(random.uniform(-1,1))\n",
        "\n",
        "  def __call__(self, inputs):\n",
        "    sum_wx = sum((weight*inp for weight, inp in zip(self.weights, inputs)), self.bias)\n",
        "    return sum_wx.tanh()\n",
        "\n",
        "  def parameters(self):\n",
        "    return self.weights + [self.bias]\n",
        "\n"
      ],
      "metadata": {
        "id": "4R9LwomMFAnG"
      },
      "execution_count": 54,
      "outputs": []
    },
    {
      "cell_type": "code",
      "source": [
        "class Layer:\n",
        "  def __init__(self, num_inputs, num_out):\n",
        "    self.neurons = [Neuron(num_inputs) for _ in range(num_out)]\n",
        "\n",
        "  def __call__(self, x):\n",
        "    out = [neuron(x) for neuron in self.neurons]\n",
        "    return out[0] if len(out) == 1 else out\n",
        "\n",
        "  def parameters(self):\n",
        "    return [p for neuron in self.neurons for p in neuron.parameters()]\n",
        "\n",
        "    "
      ],
      "metadata": {
        "id": "ARUijwxFJY80"
      },
      "execution_count": 55,
      "outputs": []
    },
    {
      "cell_type": "code",
      "source": [
        "class MLP:\n",
        "  def __init__(self, num_inputs, layer_sizes):\n",
        "    layer_sizes = [num_inputs] + layer_sizes\n",
        "    self.layers = [Layer(num_in, num_out) for num_in, num_out in zip(layer_sizes, layer_sizes[1:])]\n",
        "\n",
        "  def __call__(self, x):\n",
        "    for layer in self.layers:\n",
        "      x = layer(x)\n",
        "    return x\n",
        "\n",
        "  def parameters(self):\n",
        "    return [p for layer in self.layers for p in layer.parameters()]\n",
        "\n"
      ],
      "metadata": {
        "id": "9A4offtMKwYz"
      },
      "execution_count": 56,
      "outputs": []
    },
    {
      "cell_type": "code",
      "source": [
        "n = MLP(3, [4, 4, 1])"
      ],
      "metadata": {
        "id": "P1tMB9D6QFLM"
      },
      "execution_count": 57,
      "outputs": []
    },
    {
      "cell_type": "code",
      "source": [
        "len(n.parameters())"
      ],
      "metadata": {
        "colab": {
          "base_uri": "https://localhost:8080/"
        },
        "id": "NDYKFcGCw4oJ",
        "outputId": "32a78606-c214-40fa-d702-7b65833b5a15"
      },
      "execution_count": 58,
      "outputs": [
        {
          "output_type": "execute_result",
          "data": {
            "text/plain": [
              "41"
            ]
          },
          "metadata": {},
          "execution_count": 58
        }
      ]
    },
    {
      "cell_type": "code",
      "source": [
        "xs = [\n",
        "    [2.0, 3.0, -1.0],\n",
        "    [3.0, -1.0, 0.5],\n",
        "    [0.5, 1.0, 1.0],\n",
        "    [1.0, 1.0, -1.0]\n",
        "]\n",
        "y_true = [1.0, -1.0, -1.0, 1.0]\n",
        "y_preds = [n(x) for x in xs]\n",
        "y_preds"
      ],
      "metadata": {
        "colab": {
          "base_uri": "https://localhost:8080/"
        },
        "id": "9K8CWuMMQa27",
        "outputId": "47b3b9fb-039a-4f24-84e2-92a5883ddd23"
      },
      "execution_count": 59,
      "outputs": [
        {
          "output_type": "execute_result",
          "data": {
            "text/plain": [
              "[Value(data=-0.09194734629566204 grad=0.0),\n",
              " Value(data=-0.889818225790853 grad=0.0),\n",
              " Value(data=-0.7906767888422505 grad=0.0),\n",
              " Value(data=-0.47238741986496324 grad=0.0)]"
            ]
          },
          "metadata": {},
          "execution_count": 59
        }
      ]
    },
    {
      "cell_type": "code",
      "source": [
        "y_preds = [n(x) for x in xs]\n",
        "y_preds"
      ],
      "metadata": {
        "colab": {
          "base_uri": "https://localhost:8080/"
        },
        "id": "2HVwsJzAuijN",
        "outputId": "6b672ad1-4f82-4e20-be18-aa8ceb778bf1"
      },
      "execution_count": null,
      "outputs": [
        {
          "output_type": "execute_result",
          "data": {
            "text/plain": [
              "[Value(data=-0.9984779212859008 grad=0.0),\n",
              " Value(data=0.3746992569264099 grad=0.0),\n",
              " Value(data=-0.9092366126582377 grad=0.0),\n",
              " Value(data=-0.9416439776253042 grad=0.0)]"
            ]
          },
          "metadata": {},
          "execution_count": 11
        }
      ]
    },
    {
      "cell_type": "code",
      "source": [
        "mse_loss = sum((y_p - y_t)**2 for y_t, y_p in zip(y_true, y_preds))\n",
        "mse_loss"
      ],
      "metadata": {
        "colab": {
          "base_uri": "https://localhost:8080/"
        },
        "id": "r85BNIdTWY7A",
        "outputId": "e6e1cf46-8974-4bd9-a32f-c4b151215003"
      },
      "execution_count": 60,
      "outputs": [
        {
          "output_type": "execute_result",
          "data": {
            "text/plain": [
              "Value(data=3.4162299513560095 grad=0.0)"
            ]
          },
          "metadata": {},
          "execution_count": 60
        }
      ]
    },
    {
      "cell_type": "code",
      "source": [
        "mse_loss.backward()"
      ],
      "metadata": {
        "id": "x1X9lM5aXbq-"
      },
      "execution_count": 61,
      "outputs": []
    },
    {
      "cell_type": "code",
      "source": [
        "for param in n.parameters():\n",
        "  param.data += -0.03 * param.grad"
      ],
      "metadata": {
        "id": "qVph6pg4t66r"
      },
      "execution_count": 62,
      "outputs": []
    },
    {
      "cell_type": "code",
      "source": [
        "for parent in mse_loss._parents:\n",
        "  print(parent.data, parent.grad)\n",
        "  for par in parent._parents:\n",
        "    print(par.data, par.grad)\n",
        "    for p in par._parents:\n",
        "      print(p.data, p.grad)\n",
        "      for x in p._parents:\n",
        "        print(x.data, x.grad)\n",
        "        for a in x._parents:\n",
        "          print(a.data, a.grad)\n",
        "          for b in a._parents:\n",
        "            print(b.data, b.grad)\n",
        "            for c in b._parents:\n",
        "              print(c.data, x.grad)\n",
        "              for d in c._parents:\n",
        "                print(d.data, d.grad)\n",
        "\n"
      ],
      "metadata": {
        "colab": {
          "base_uri": "https://localhost:8080/"
        },
        "id": "b_SLcimmgqUx",
        "outputId": "31bd7506-aa85-4363-8c94-f09ff5bc4a03"
      },
      "execution_count": 63,
      "outputs": [
        {
          "output_type": "stream",
          "name": "stdout",
          "text": [
            "2.1679247141766034 1.0\n",
            "-1.4723874198649631 -2.9447748397299263\n",
            "-0.47238741986496324 -2.9447748397299263\n",
            "-0.5131390964333955 -2.2876487039704596\n",
            "0.27925237705474437 -2.2876487039704596\n",
            "-0.31571092605053064 2.0234692110329715\n",
            "-0.3268759878122762 -2.2876487039704596\n",
            "-0.5343061230279714 1.821783177580836\n",
            "0.2074301352156952 1.821783177580836\n",
            "-0.9654044566921827 2.696175084415339\n",
            "-0.7923914734881399 -2.2876487039704596\n",
            "0.14956337916433338 -2.2876487039704596\n",
            "-0.24246125475228897 -2.2876487039704596\n",
            "-0.2473874446346443 1.3281892452985213\n",
            "-0.6353969769103004 -2.2876487039704596\n",
            "-0.9419548526524733 -2.2876487039704596\n",
            "-0.8421162118688306 -2.2876487039704596\n",
            "-0.3064208390394621 -2.2876487039704596\n",
            "-0.40818715701614905 -4.25027386044065\n",
            "-0.09983864078364266 -2.2876487039704596\n",
            "0.0022745103487239043 -3.977040400018808\n",
            "0.8530541221218084 0.2677388588508099\n",
            "-1.0 -2.9447748397299263\n",
            "1.2483052371794061 1.0\n",
            "0.0438162067293918 1.0\n",
            "0.20932321115774954 0.4186464223154991\n",
            "1.0 0.4186464223154991\n",
            "-0.7906767888422505 0.4186464223154991\n",
            "-1.0732346997057067 0.15692132873087106\n",
            "-0.10092897410809286 0.15692132873087106\n",
            "0.11410602916640299 0.4186464223154991\n",
            "0.11460516152223377 -0.13699272792986528\n",
            "-0.9654044566921827 0.4186464223154991\n",
            "-0.972305725597614 0.15692132873087106\n",
            "-0.02904219526362354 0.4186464223154991\n",
            "-0.6353969769103004 0.6180738894746076\n",
            "0.04708109126527659 -0.09679766860863653\n",
            "-0.9432635303339905 0.4186464223154991\n",
            "-0.07927092277620476 0.15692132873087106\n",
            "-0.8639926075577857 0.15692132873087106\n",
            "1.2044890304500142 1.0\n",
            "1.1923490070821388 1.0\n",
            "0 1.0\n",
            "1.1923490070821388 1.0\n",
            "-1.0919473462956621 -2.1838946925913243\n",
            "-0.09194734629566204 -2.1838946925913243\n",
            "-0.09220778594159729 1.0\n",
            "0.7850934970331087 -2.165431360045337\n",
            "-0.877301282974706 -2.165431360045337\n",
            "-1.0 -2.1838946925913243\n",
            "0.012140023367875449 1.0\n",
            "0.11018177420914699 0.22036354841829398\n",
            "-0.889818225790853 0.22036354841829398\n",
            "-1.4210522159296273 0.04588487484427575\n",
            "-0.6556259296081575 0.22036354841829398\n",
            "0.7412229452168768 -0.04058605298022726\n",
            "-0.9654044566921827 2.696175084415339\n",
            "-0.7654262863214698 0.22036354841829398\n",
            "0.1395615064305157 0.04588487484427575\n",
            "-0.9049877927519855 0.04588487484427575\n",
            "1.0 0.22036354841829398\n"
          ]
        }
      ]
    },
    {
      "cell_type": "code",
      "source": [
        "for param in n.parameters():\n",
        "  print(param.data, param.grad)"
      ],
      "metadata": {
        "colab": {
          "base_uri": "https://localhost:8080/"
        },
        "id": "mhl-VldJgLsE",
        "outputId": "2d483abf-8784-4d17-c891-2541a5ec72d0"
      },
      "execution_count": 64,
      "outputs": [
        {
          "output_type": "stream",
          "name": "stdout",
          "text": [
            "0.8011933283393744 -3.8790969141804634\n",
            "-0.5158701216428029 -5.369917403505679\n",
            "0.014680879125538851 2.4625667962682094\n",
            "0.8701798012824639 -2.3151500291038327\n",
            "0.27582818362848815 3.2760792990987655\n",
            "-0.8194693425201133 3.709975974632634\n",
            "0.4787286916789601 -2.9580097863057064\n",
            "0.6985542712476596 2.730941897860051\n",
            "-0.5889241864375832 0.10438916770078338\n",
            "-0.3407862158624901 0.09618612713647205\n",
            "0.06627844451289898 -0.13680897591742727\n",
            "-0.7263534442871229 0.09619717576217567\n",
            "-0.09050323642047987 1.1743714371591132\n",
            "-0.4970034275090463 1.3079404370364311\n",
            "-0.10638449529862615 -1.2086211173257808\n",
            "-0.4518748366270408 1.083225142420872\n",
            "-0.4467552667774188 0.2473214454441985\n",
            "0.5166132593037579 -0.4003941991036089\n",
            "-0.9736315933623217 -0.86981132749682\n",
            "0.7050274266302025 -0.7402300778941174\n",
            "0.7409659247316882 0.8936211028194228\n",
            "-0.19428325356581885 0.03501792303936651\n",
            "-0.972842230920233 -0.012989528035830212\n",
            "-0.6666264276373559 -0.06254552666817673\n",
            "-0.7131587068465065 -0.046779318811035246\n",
            "0.34288954986340137 0.06566265207251035\n",
            "-1.0092310449328294 0.8117669512187057\n",
            "0.39175839996670037 -1.015255374230154\n",
            "0.24808027377922362 -2.462333740326362\n",
            "0.1927322654917717 -2.051496258396901\n",
            "0.5131769189168832 2.539251317310442\n",
            "0.021452354375803714 1.0572570544419704\n",
            "0.9771467027240416 -0.30076656617229325\n",
            "0.689739978470624 -1.9749595771446622\n",
            "0.8558224614573265 -1.471749076710899\n",
            "0.6483601018665545 2.072900859462809\n",
            "-0.312379646694997 -2.9113025370724817\n",
            "0.0022745103487239043 -3.977040400018808\n",
            "-0.6353969769103004 0.6180738894746076\n",
            "-0.9654044566921827 2.696175084415339\n",
            "-0.40818715701614905 -4.25027386044065\n"
          ]
        }
      ]
    },
    {
      "cell_type": "code",
      "source": [
        "n.layers[0].neurons[0].weights[0].grad"
      ],
      "metadata": {
        "colab": {
          "base_uri": "https://localhost:8080/"
        },
        "id": "uplDywdh-VSe",
        "outputId": "70003ff4-e999-4c4d-fb4c-78eb67157c6d"
      },
      "execution_count": 52,
      "outputs": [
        {
          "output_type": "execute_result",
          "data": {
            "text/plain": [
              "-0.8316832167450405"
            ]
          },
          "metadata": {},
          "execution_count": 52
        }
      ]
    }
  ]
}
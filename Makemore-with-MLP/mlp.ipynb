{
 "cells": [
  {
   "cell_type": "code",
   "execution_count": 145,
   "id": "58219fc1",
   "metadata": {},
   "outputs": [],
   "source": [
    "import numpy as np\n",
    "import torch\n",
    "import torch.nn.functional as F\n",
    "import matplotlib.pyplot as plt"
   ]
  },
  {
   "cell_type": "code",
   "execution_count": 2,
   "id": "0f032bf6",
   "metadata": {},
   "outputs": [],
   "source": [
    "with open(\"../Makemore/names.txt\") as f:\n",
    "    names = f.readlines()"
   ]
  },
  {
   "cell_type": "code",
   "execution_count": 3,
   "id": "e2beadaf",
   "metadata": {},
   "outputs": [],
   "source": [
    "names = [name.strip() for name in names]"
   ]
  },
  {
   "cell_type": "code",
   "execution_count": 4,
   "id": "494fb6f5",
   "metadata": {},
   "outputs": [
    {
     "data": {
      "text/plain": [
       "27"
      ]
     },
     "execution_count": 4,
     "metadata": {},
     "output_type": "execute_result"
    }
   ],
   "source": [
    "char_set = sorted(list({c for name in names for c in name}))\n",
    "char_set.insert(0, '.')\n",
    "len(char_set)"
   ]
  },
  {
   "cell_type": "code",
   "execution_count": 5,
   "id": "4c958ecf",
   "metadata": {},
   "outputs": [],
   "source": [
    "stoi = {char: i for i, char in enumerate(char_set)}\n",
    "itos = {i: char for char, i in stoi.items()}"
   ]
  },
  {
   "cell_type": "code",
   "execution_count": 43,
   "id": "a48d736d",
   "metadata": {},
   "outputs": [],
   "source": [
    "block_size = 3\n",
    "X, Y = [], []\n",
    "for name in names:\n",
    "    name = '.' * block_size + name + '.'\n",
    "    for i in range(len(name) - block_size):\n",
    "        context = name[i: i+block_size]\n",
    "        X.append([stoi[char] for char in context])\n",
    "        Y.append(stoi[name[i+block_size]])\n",
    "\n",
    "X = torch.tensor(X)\n",
    "Y = torch.tensor(Y)"
   ]
  },
  {
   "cell_type": "code",
   "execution_count": 168,
   "id": "c53f7552",
   "metadata": {},
   "outputs": [],
   "source": [
    "train_idx, val_idx, test_idx = torch.utils.data.random_split(range(X.shape[0]), [0.8, 0.1, 0.1])\n",
    "X_train, Y_train = X[train_idx], Y[train_idx]\n",
    "X_val, Y_val = X[val_idx], Y[val_idx]\n",
    "X_test, Y_test = X[test_idx], Y[test_idx]"
   ]
  },
  {
   "cell_type": "code",
   "execution_count": 169,
   "id": "b34a0d11",
   "metadata": {},
   "outputs": [
    {
     "data": {
      "text/plain": [
       "(182517, 22815, 22814, 228146)"
      ]
     },
     "execution_count": 169,
     "metadata": {},
     "output_type": "execute_result"
    }
   ],
   "source": [
    "len(train_idx),  len(val_idx), len(test_idx), len(train_idx) + len(val_idx) + len(test_idx)"
   ]
  },
  {
   "cell_type": "code",
   "execution_count": 170,
   "id": "4992f386",
   "metadata": {},
   "outputs": [
    {
     "data": {
      "text/plain": [
       "(torch.Size([228146, 3]), torch.int64, torch.Size([228146]), torch.int64)"
      ]
     },
     "execution_count": 170,
     "metadata": {},
     "output_type": "execute_result"
    }
   ],
   "source": [
    "X.shape, X.dtype, Y.shape, Y.dtype"
   ]
  },
  {
   "cell_type": "code",
   "execution_count": 199,
   "id": "78cdcd18",
   "metadata": {},
   "outputs": [],
   "source": [
    "gen = torch.Generator().manual_seed(2147483647)\n",
    "C =  torch.randn((27, 10))\n",
    "W1 = torch.randn((30, 200))\n",
    "B1 = torch.randn(200)\n",
    "W2 = torch.randn((200, 27))\n",
    "B2 = torch.randn(27)\n",
    "parameters = [C, W1, B1, W2 ,B2]"
   ]
  },
  {
   "cell_type": "code",
   "execution_count": 200,
   "id": "4a85e65a",
   "metadata": {},
   "outputs": [
    {
     "data": {
      "text/plain": [
       "11897"
      ]
     },
     "execution_count": 200,
     "metadata": {},
     "output_type": "execute_result"
    }
   ],
   "source": [
    "# Number of parameters in the network\n",
    "sum(p.nelement() for p in parameters)"
   ]
  },
  {
   "cell_type": "code",
   "execution_count": 201,
   "id": "ce9561d2",
   "metadata": {},
   "outputs": [],
   "source": [
    "for param in parameters:\n",
    "    param.requires_grad = True"
   ]
  },
  {
   "cell_type": "code",
   "execution_count": 78,
   "id": "b75add49",
   "metadata": {},
   "outputs": [],
   "source": [
    "lre = torch.linspace(-3, 0, 1000)\n",
    "lrs = 10 ** lre"
   ]
  },
  {
   "cell_type": "code",
   "execution_count": 202,
   "id": "4ca4cdf9",
   "metadata": {},
   "outputs": [],
   "source": [
    "stepi = []\n",
    "lossi = []"
   ]
  },
  {
   "cell_type": "code",
   "execution_count": 203,
   "id": "d8faa835",
   "metadata": {},
   "outputs": [
    {
     "data": {
      "text/plain": [
       "(torch.Size([32, 27]), torch.Size([32]))"
      ]
     },
     "execution_count": 203,
     "metadata": {},
     "output_type": "execute_result"
    }
   ],
   "source": [
    "logits.shape, Y_train[ix].shape"
   ]
  },
  {
   "cell_type": "code",
   "execution_count": 218,
   "id": "9fc89735",
   "metadata": {},
   "outputs": [
    {
     "name": "stdout",
     "output_type": "stream",
     "text": [
      "loss = 2.2339541912078857\n"
     ]
    }
   ],
   "source": [
    "for i in range(30000):\n",
    "    # Create a mini batch to optimize the model faster\n",
    "    ix = torch.randint(0, X_train.shape[0], (64,))\n",
    "    out = torch.tanh(torch.matmul(C[X_train[ix]].view(-1, 30), W1) + B1)\n",
    "    \n",
    "    logits = torch.matmul(out, W2) + B2\n",
    "    \n",
    "    # counts = logits.exp()\n",
    "    # probs = torch.div(counts, counts.sum(dim=1, keepdims=True))\n",
    "    # loss = -probs[torch.arange(X.shape[0]), Y].log().mean()\n",
    "    loss = F.cross_entropy(logits, Y_train[ix])\n",
    "#     print(f\"loss = {loss}\")\n",
    "    \n",
    "    loss.backward()\n",
    "    lr = 0.001\n",
    "    for param in parameters:\n",
    "        param.data += -lr * param.grad\n",
    "        param.grad = None\n",
    "    stepi.append(i)\n",
    "    lossi.append(loss.log10().item())\n",
    "print(f\"loss = {loss}\")"
   ]
  },
  {
   "cell_type": "code",
   "execution_count": 215,
   "id": "e23b896e",
   "metadata": {},
   "outputs": [
    {
     "data": {
      "text/plain": [
       "[<matplotlib.lines.Line2D at 0x7fa33bf9d330>]"
      ]
     },
     "execution_count": 215,
     "metadata": {},
     "output_type": "execute_result"
    },
    {
     "data": {
      "image/png": "[encoded data removed]",
      "text/plain": [
       "<Figure size 640x480 with 1 Axes>"
      ]
     },
     "metadata": {},
     "output_type": "display_data"
    }
   ],
   "source": [
    "plt.plot(stepi, lossi)"
   ]
  },
  {
   "cell_type": "code",
   "execution_count": 219,
   "id": "81b78950",
   "metadata": {},
   "outputs": [
    {
     "name": "stdout",
     "output_type": "stream",
     "text": [
      "loss = 2.204454183578491\n"
     ]
    }
   ],
   "source": [
    "# Loss on all of the training set\n",
    "out = torch.tanh(torch.matmul(C[X_train].view(-1, 30), W1) + B1)\n",
    "logits = torch.matmul(out, W2) + B2\n",
    "loss = F.cross_entropy(logits, Y_train)\n",
    "print(f\"loss = {loss}\")"
   ]
  },
  {
   "cell_type": "code",
   "execution_count": 220,
   "id": "55eba258",
   "metadata": {},
   "outputs": [
    {
     "name": "stdout",
     "output_type": "stream",
     "text": [
      "loss = 2.2183454036712646\n"
     ]
    }
   ],
   "source": [
    "# loss on the validation set\n",
    "out = torch.tanh(torch.matmul(C[X_val].view(-1, 30), W1) + B1)\n",
    "logits = torch.matmul(out, W2) + B2\n",
    "loss = F.cross_entropy(logits, Y_val)\n",
    "print(f\"loss = {loss}\")"
   ]
  },
  {
   "cell_type": "code",
   "execution_count": 144,
   "id": "d67aaa59",
   "metadata": {},
   "outputs": [
    {
     "data": {
      "image/png": "[encoded data removed]",
      "text/plain": [
       "<Figure size 800x800 with 1 Axes>"
      ]
     },
     "metadata": {},
     "output_type": "display_data"
    }
   ],
   "source": [
    "# visualize dimensions 0 and 1 of the embedding matrix C for all characters\n",
    "plt.figure(figsize=(8,8))\n",
    "plt.scatter(C[:,0].data, C[:,1].data, s=200)\n",
    "for i in range(C.shape[0]):\n",
    "    plt.text(C[i,0].item(), C[i,1].item(), itos[i], ha=\"center\", va=\"center\", color='white')\n",
    "plt.grid('minor')"
   ]
  },
  {
   "cell_type": "code",
   "execution_count": 223,
   "id": "33516ab3",
   "metadata": {},
   "outputs": [
    {
     "name": "stdout",
     "output_type": "stream",
     "text": [
      "junide.\n",
      "janasar.\n",
      "parsay.\n",
      "adin.\n",
      "kohin.\n",
      "tolian.\n",
      "juhmerslania.\n",
      "zamilenias.\n",
      "deyailroiry.\n",
      "din.\n",
      "sinayla.\n",
      "telinvelyn.\n",
      "afonturj.\n",
      "phynsleigh.\n",
      "ani.\n",
      "core.\n",
      "yaen.\n",
      "cary.\n",
      "jamillerimois.\n",
      "wyn.\n"
     ]
    }
   ],
   "source": [
    "# sample from the model\n",
    "g = torch.Generator().manual_seed(2147483647)\n",
    "\n",
    "for _ in range(20):\n",
    "    \n",
    "    out = []\n",
    "    context = [0] * block_size # initialize with all ...\n",
    "    while True:\n",
    "      emb = C[torch.tensor([context])] # (1,block_size,d)\n",
    "      h = torch.tanh(emb.view(1, -1) @ W1 + B1)\n",
    "      logits = h @ W2 + B2\n",
    "      probs = F.softmax(logits, dim=1)\n",
    "      ix = torch.multinomial(probs, num_samples=1, generator=g).item()\n",
    "      context = context[1:] + [ix]\n",
    "      out.append(ix)\n",
    "      if ix == 0:\n",
    "        break\n",
    "    \n",
    "    print(''.join(itos[i] for i in out))"
   ]
  }
 ],
 "metadata": {
  "kernelspec": {
   "display_name": "Python 3 (ipykernel)",
   "language": "python",
   "name": "python3"
  },
  "language_info": {
   "codemirror_mode": {
    "name": "ipython",
    "version": 3
   },
   "file_extension": ".py",
   "mimetype": "text/x-python",
   "name": "python",
   "nbconvert_exporter": "python",
   "pygments_lexer": "ipython3",
   "version": "3.10.10"
  }
 },
 "nbformat": 4,
 "nbformat_minor": 5
}

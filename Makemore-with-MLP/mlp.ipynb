{
 "cells": [
  {
   "cell_type": "code",
   "execution_count": 106,
   "id": "58219fc1",
   "metadata": {},
   "outputs": [],
   "source": [
    "import numpy as np\n",
    "import torch\n",
    "import torch.nn.functional as F"
   ]
  },
  {
   "cell_type": "code",
   "execution_count": 3,
   "id": "0f032bf6",
   "metadata": {},
   "outputs": [],
   "source": [
    "with open(\"../Makemore/names.txt\") as f:\n",
    "    names = f.readlines()"
   ]
  },
  {
   "cell_type": "code",
   "execution_count": 6,
   "id": "e2beadaf",
   "metadata": {},
   "outputs": [],
   "source": [
    "names = [name.strip() for name in names]"
   ]
  },
  {
   "cell_type": "code",
   "execution_count": 21,
   "id": "494fb6f5",
   "metadata": {},
   "outputs": [
    {
     "data": {
      "text/plain": [
       "27"
      ]
     },
     "execution_count": 21,
     "metadata": {},
     "output_type": "execute_result"
    }
   ],
   "source": [
    "char_set = sorted(list({c for name in names for c in name}))\n",
    "char_set.insert(0, '.')\n",
    "len(char_set)"
   ]
  },
  {
   "cell_type": "code",
   "execution_count": 23,
   "id": "4c958ecf",
   "metadata": {},
   "outputs": [],
   "source": [
    "stoi = {char: i for i, char in enumerate(char_set)}\n",
    "itos = {i: char for char, i in stoi.items()}"
   ]
  },
  {
   "cell_type": "code",
   "execution_count": 95,
   "id": "a48d736d",
   "metadata": {},
   "outputs": [],
   "source": [
    "block_size = 3\n",
    "X, Y = [], []\n",
    "for name in names[:5]:\n",
    "    name = '.' * block_size + name + '.'\n",
    "    for i in range(len(name) - block_size):\n",
    "        context = name[i: i+block_size]\n",
    "        X.append([stoi[char] for char in context])\n",
    "        Y.append(stoi[name[i+block_size]])\n",
    "\n",
    "X = torch.tensor(X)\n",
    "Y = torch.tensor(Y)"
   ]
  },
  {
   "cell_type": "code",
   "execution_count": 96,
   "id": "4992f386",
   "metadata": {},
   "outputs": [
    {
     "data": {
      "text/plain": [
       "(torch.Size([32, 3]), torch.int64, torch.Size([32]), torch.int64)"
      ]
     },
     "execution_count": 96,
     "metadata": {},
     "output_type": "execute_result"
    }
   ],
   "source": [
    "X.shape, X.dtype, Y.shape, Y.dtype"
   ]
  },
  {
   "cell_type": "code",
   "execution_count": 115,
   "id": "de3601a8",
   "metadata": {},
   "outputs": [],
   "source": [
    "C =  torch.randn((27, 2))"
   ]
  },
  {
   "cell_type": "code",
   "execution_count": 116,
   "id": "78cdcd18",
   "metadata": {},
   "outputs": [],
   "source": [
    "W1 = torch.randn((6, 100))\n",
    "B1 = torch.randn(100)\n",
    "W2 = torch.randn((100, 27))\n",
    "B2 = torch.randn(27)\n",
    "parameters = [C, W1, B1, W2 ,B2]"
   ]
  },
  {
   "cell_type": "code",
   "execution_count": 126,
   "id": "ce9561d2",
   "metadata": {},
   "outputs": [],
   "source": [
    "for param in parameters:\n",
    "    param.requires_grad = True"
   ]
  },
  {
   "cell_type": "code",
   "execution_count": 246,
   "id": "9fc89735",
   "metadata": {},
   "outputs": [
    {
     "data": {
      "text/plain": [
       "torch.Size([32, 100])"
      ]
     },
     "execution_count": 246,
     "metadata": {},
     "output_type": "execute_result"
    }
   ],
   "source": [
    "out = torch.tanh(torch.matmul(C[X].view(-1, 6), W1) + B1)\n",
    "out.shape"
   ]
  },
  {
   "cell_type": "code",
   "execution_count": 247,
   "id": "91caaa67",
   "metadata": {},
   "outputs": [
    {
     "data": {
      "text/plain": [
       "torch.Size([32, 27])"
      ]
     },
     "execution_count": 247,
     "metadata": {},
     "output_type": "execute_result"
    }
   ],
   "source": [
    "out = torch.matmul(out, W2) + B2\n",
    "out.shape"
   ]
  },
  {
   "cell_type": "code",
   "execution_count": 248,
   "id": "e0ced0e7",
   "metadata": {},
   "outputs": [
    {
     "data": {
      "text/plain": [
       "tensor(0.7142, grad_fn=<NegBackward0>)"
      ]
     },
     "execution_count": 248,
     "metadata": {},
     "output_type": "execute_result"
    }
   ],
   "source": [
    "counts = out.exp()\n",
    "probs = torch.div(counts, counts.sum(dim=1, keepdims=True))\n",
    "loss = -probs[torch.arange(X.shape[0]), Y].log().mean()\n",
    "loss"
   ]
  },
  {
   "cell_type": "code",
   "execution_count": 249,
   "id": "9178c0af",
   "metadata": {},
   "outputs": [],
   "source": [
    "loss.backward()\n",
    "for param in parameters:\n",
    "    param.data += -0.1 * param.grad\n",
    "    param.grad = None"
   ]
  }
 ],
 "metadata": {
  "kernelspec": {
   "display_name": "Python 3 (ipykernel)",
   "language": "python",
   "name": "python3"
  },
  "language_info": {
   "codemirror_mode": {
    "name": "ipython",
    "version": 3
   },
   "file_extension": ".py",
   "mimetype": "text/x-python",
   "name": "python",
   "nbconvert_exporter": "python",
   "pygments_lexer": "ipython3",
   "version": "3.10.10"
  }
 },
 "nbformat": 4,
 "nbformat_minor": 5
}

{
 "cells": [
  {
   "cell_type": "code",
   "execution_count": 1,
   "id": "3afbc1a5",
   "metadata": {},
   "outputs": [],
   "source": [
    "import numpy as np\n",
    "import torch\n",
    "import torch.nn.functional as F"
   ]
  },
  {
   "cell_type": "code",
   "execution_count": 2,
   "id": "cb311337",
   "metadata": {},
   "outputs": [],
   "source": [
    "with open(\"../Makemore/names.txt\") as f:\n",
    "    names = f.readlines()"
   ]
  },
  {
   "cell_type": "code",
   "execution_count": 4,
   "id": "943f9de3",
   "metadata": {},
   "outputs": [],
   "source": [
    "names = [name.strip() for name in names]"
   ]
  },
  {
   "cell_type": "code",
   "execution_count": 6,
   "id": "125ff2f0",
   "metadata": {},
   "outputs": [
    {
     "data": {
      "text/plain": [
       "27"
      ]
     },
     "execution_count": 6,
     "metadata": {},
     "output_type": "execute_result"
    }
   ],
   "source": [
    "char_set = sorted(list({c for name in names for c in name}))\n",
    "char_set.insert(0, '.')\n",
    "len(char_set)"
   ]
  },
  {
   "cell_type": "code",
   "execution_count": 7,
   "id": "77ec8f82",
   "metadata": {},
   "outputs": [
    {
     "data": {
      "text/plain": [
       "['.',\n",
       " 'a',\n",
       " 'b',\n",
       " 'c',\n",
       " 'd',\n",
       " 'e',\n",
       " 'f',\n",
       " 'g',\n",
       " 'h',\n",
       " 'i',\n",
       " 'j',\n",
       " 'k',\n",
       " 'l',\n",
       " 'm',\n",
       " 'n',\n",
       " 'o',\n",
       " 'p',\n",
       " 'q',\n",
       " 'r',\n",
       " 's',\n",
       " 't',\n",
       " 'u',\n",
       " 'v',\n",
       " 'w',\n",
       " 'x',\n",
       " 'y',\n",
       " 'z']"
      ]
     },
     "execution_count": 7,
     "metadata": {},
     "output_type": "execute_result"
    }
   ],
   "source": [
    "char_set"
   ]
  },
  {
   "cell_type": "code",
   "execution_count": 12,
   "id": "741f0d18",
   "metadata": {},
   "outputs": [],
   "source": [
    "stoi = {char: i for i, char in enumerate(char_set)}\n",
    "itos = {i: char for char, i in stoi.items()}"
   ]
  },
  {
   "cell_type": "code",
   "execution_count": 16,
   "id": "d2731153",
   "metadata": {},
   "outputs": [],
   "source": [
    "block_size = 3\n",
    "X, Y = [], []\n",
    "for name in names:\n",
    "    name = '.' * block_size + name + '.'\n",
    "    for i in range(len(name) - block_size):\n",
    "        context = name[i: i+block_size]\n",
    "        X.append([stoi[char] for char in context])\n",
    "        Y.append(stoi[name[i+block_size]])\n",
    "\n",
    "X = torch.tensor(X)\n",
    "Y = torch.tensor(Y)"
   ]
  },
  {
   "cell_type": "code",
   "execution_count": 17,
   "id": "4d480a30",
   "metadata": {},
   "outputs": [
    {
     "data": {
      "text/plain": [
       "(torch.Size([228146, 3]), torch.Size([228146]))"
      ]
     },
     "execution_count": 17,
     "metadata": {},
     "output_type": "execute_result"
    }
   ],
   "source": [
    "X.shape, Y.shape"
   ]
  },
  {
   "cell_type": "code",
   "execution_count": 259,
   "id": "4c754d5a",
   "metadata": {},
   "outputs": [
    {
     "name": "stdout",
     "output_type": "stream",
     "text": [
      "Number of train samples: 182517\n",
      "Number of validation samples: 22815\n",
      "Number of test samples: 22814\n"
     ]
    }
   ],
   "source": [
    "train_idx, val_idx, test_idx = torch.utils.data.random_split(range(X.shape[0]), [0.8, 0.1, 0.1])\n",
    "X_train, Y_train = X[train_idx], Y[train_idx]\n",
    "X_val, Y_val = X[val_idx], Y[val_idx]\n",
    "X_test, Y_test = X[test_idx], Y[test_idx]\n",
    "print(f\"Number of train samples: {X_train.shape[0]}\")\n",
    "print(f\"Number of validation samples: {X_val.shape[0]}\")\n",
    "print(f\"Number of test samples: {X_test.shape[0]}\")"
   ]
  },
  {
   "cell_type": "code",
   "execution_count": 265,
   "id": "427c2e8b",
   "metadata": {},
   "outputs": [],
   "source": [
    "gen = torch.Generator().manual_seed(2147483647)\n",
    "C = torch.randn((27, 20), generator=gen)\n",
    "W1 = torch.randn((60, 300), generator=gen)\n",
    "B1 = torch.randn(300, generator=gen)\n",
    "W2 = torch.randn((300, 27), generator=gen)\n",
    "B2 = torch.randn(27, generator=gen)\n",
    "parameters = [C, W1, B1, W2, B2]"
   ]
  },
  {
   "cell_type": "code",
   "execution_count": 266,
   "id": "dc9b3de0",
   "metadata": {},
   "outputs": [
    {
     "data": {
      "text/plain": [
       "26967"
      ]
     },
     "execution_count": 266,
     "metadata": {},
     "output_type": "execute_result"
    }
   ],
   "source": [
    "sum(p.nelement() for p in parameters)"
   ]
  },
  {
   "cell_type": "code",
   "execution_count": 267,
   "id": "7f0e155b",
   "metadata": {},
   "outputs": [],
   "source": [
    "for p in parameters:\n",
    "    p.requires_grad = True"
   ]
  },
  {
   "cell_type": "code",
   "execution_count": 268,
   "id": "c0b9a4de",
   "metadata": {},
   "outputs": [
    {
     "data": {
      "text/plain": [
       "torch.Size([182517, 3, 20])"
      ]
     },
     "execution_count": 268,
     "metadata": {},
     "output_type": "execute_result"
    }
   ],
   "source": [
    "C[X_train].shape"
   ]
  },
  {
   "cell_type": "code",
   "execution_count": 269,
   "id": "9e3d41d5",
   "metadata": {},
   "outputs": [
    {
     "data": {
      "text/plain": [
       "torch.Size([27, 20])"
      ]
     },
     "execution_count": 269,
     "metadata": {},
     "output_type": "execute_result"
    }
   ],
   "source": [
    "C.shape"
   ]
  },
  {
   "cell_type": "code",
   "execution_count": 270,
   "id": "643fff84",
   "metadata": {},
   "outputs": [
    {
     "name": "stdout",
     "output_type": "stream",
     "text": [
      "Epoch 0 \t Loss: 33.08217239379883\n",
      "Epoch 5000 \t Loss: 3.1133220195770264\n",
      "Epoch 10000 \t Loss: 2.662336826324463\n",
      "Epoch 15000 \t Loss: 2.437128782272339\n",
      "Epoch 20000 \t Loss: 2.3415513038635254\n",
      "Epoch 25000 \t Loss: 2.295254707336426\n",
      "Epoch 30000 \t Loss: 2.266085624694824\n",
      "Epoch 35000 \t Loss: 2.251458168029785\n",
      "Epoch 40000 \t Loss: 2.222989559173584\n",
      "Epoch 45000 \t Loss: 2.2297451496124268\n",
      "Epoch 50000 \t Loss: 2.1771247386932373\n",
      "Epoch 55000 \t Loss: 2.1993818283081055\n",
      "Epoch 60000 \t Loss: 2.203444719314575\n",
      "Epoch 65000 \t Loss: 2.146192789077759\n",
      "Epoch 70000 \t Loss: 2.1651298999786377\n",
      "Epoch 75000 \t Loss: 2.169393301010132\n",
      "Epoch 80000 \t Loss: 2.213757038116455\n",
      "Epoch 85000 \t Loss: 2.1542716026306152\n",
      "Epoch 90000 \t Loss: 2.1260766983032227\n",
      "Epoch 95000 \t Loss: 2.1293880939483643\n",
      "Epoch 100000 \t Loss: 2.143028974533081\n",
      "Epoch 105000 \t Loss: 2.069441556930542\n",
      "Epoch 110000 \t Loss: 2.0641143321990967\n",
      "Epoch 115000 \t Loss: 2.0550808906555176\n",
      "Epoch 120000 \t Loss: 2.061725616455078\n",
      "Epoch 125000 \t Loss: 2.0556840896606445\n",
      "Epoch 130000 \t Loss: 2.059509038925171\n",
      "Epoch 135000 \t Loss: 2.0720815658569336\n",
      "Epoch 140000 \t Loss: 2.0627145767211914\n",
      "Epoch 145000 \t Loss: 2.058758497238159\n",
      "Epoch 150000 \t Loss: 2.0625343322753906\n",
      "Epoch 155000 \t Loss: 2.044630527496338\n",
      "Epoch 160000 \t Loss: 2.054591178894043\n",
      "Epoch 165000 \t Loss: 2.0639278888702393\n",
      "Epoch 170000 \t Loss: 2.045628547668457\n",
      "Epoch 175000 \t Loss: 2.0440075397491455\n",
      "Epoch 180000 \t Loss: 2.0443625450134277\n",
      "Epoch 185000 \t Loss: 2.040431261062622\n",
      "Epoch 190000 \t Loss: 2.0432910919189453\n",
      "Epoch 195000 \t Loss: 2.049449920654297\n",
      "Epoch 200000 \t Loss: 2.044010877609253\n",
      "Epoch 205000 \t Loss: 2.003763437271118\n",
      "Epoch 210000 \t Loss: 2.003523111343384\n",
      "Epoch 215000 \t Loss: 2.002133369445801\n",
      "Epoch 220000 \t Loss: 2.0005645751953125\n",
      "Epoch 225000 \t Loss: 1.9973918199539185\n",
      "Epoch 230000 \t Loss: 2.0017881393432617\n",
      "Epoch 235000 \t Loss: 1.9996180534362793\n",
      "Epoch 240000 \t Loss: 2.000131130218506\n",
      "Epoch 245000 \t Loss: 1.9987858533859253\n",
      "Epoch 250000 \t Loss: 1.9989100694656372\n",
      "Epoch 255000 \t Loss: 1.996896743774414\n",
      "Epoch 260000 \t Loss: 1.9978113174438477\n",
      "Epoch 265000 \t Loss: 1.9986974000930786\n",
      "Epoch 270000 \t Loss: 1.9992642402648926\n",
      "Epoch 275000 \t Loss: 1.995381236076355\n",
      "Epoch 280000 \t Loss: 1.996711254119873\n",
      "Epoch 285000 \t Loss: 1.9977272748947144\n",
      "Epoch 290000 \t Loss: 1.998082160949707\n",
      "Epoch 295000 \t Loss: 1.9944260120391846\n",
      "Epoch 300000 \t Loss: 1.994956135749817\n"
     ]
    }
   ],
   "source": [
    "for i in range(300001):\n",
    "    ix = torch.randint(0, X_train.shape[0], (64, ))\n",
    "    emb = C[X_train[ix]]\n",
    "#     print(f\"emb: {emb.shape}\")\n",
    "    out = torch.tanh(torch.matmul(emb.view(-1, W1.shape[0]), W1) + B1)\n",
    "    logits = torch.matmul(out, W2) + B2\n",
    "    loss = F.cross_entropy(logits, Y_train[ix])\n",
    "    if i%5000 == 0:\n",
    "        overall_train_loss(i)\n",
    "    loss.backward()\n",
    "    lr_schedule = {0: 0.1, 100000: 0.05, 200000: 0.01, 300000: 0.001}\n",
    "    for threshold, item in lr_schedule.items():\n",
    "        if i > threshold:\n",
    "            lr = item\n",
    "    for p in parameters:\n",
    "        p.data += -lr * p.grad\n",
    "        p.grad = None"
   ]
  },
  {
   "cell_type": "code",
   "execution_count": 256,
   "id": "065731ab",
   "metadata": {},
   "outputs": [],
   "source": [
    "@torch.no_grad()\n",
    "def overall_train_loss(epoch_num):\n",
    "    out = torch.tanh(torch.matmul(C[X_train].view(-1, W1.shape[0]), W1) + B1)\n",
    "    logits = torch.matmul(out, W2) + B2\n",
    "    train_loss = F.cross_entropy(logits, Y_train)\n",
    "    print(f\"Epoch {epoch_num} \\t Loss: {train_loss}\")"
   ]
  },
  {
   "cell_type": "code",
   "execution_count": 271,
   "id": "1031539b",
   "metadata": {},
   "outputs": [
    {
     "name": "stdout",
     "output_type": "stream",
     "text": [
      "Val loss: 2.160008430480957\n"
     ]
    }
   ],
   "source": [
    "with torch.no_grad():\n",
    "    out = torch.tanh(torch.matmul(C[X_val].view(-1, W1.shape[0]), W1) + B1)\n",
    "    logits = torch.matmul(out, W2) + B2\n",
    "    val_loss = F.cross_entropy(logits, Y_val)\n",
    "    print(f\"Val loss: {val_loss}\")"
   ]
  },
  {
   "cell_type": "code",
   "execution_count": 272,
   "id": "fe0f1fc7",
   "metadata": {},
   "outputs": [
    {
     "name": "stdout",
     "output_type": "stream",
     "text": [
      "test loss: 2.1386842727661133\n"
     ]
    }
   ],
   "source": [
    "with torch.no_grad():\n",
    "    out = torch.tanh(torch.matmul(C[X_test].view(-1, W1.shape[0]), W1) + B1)\n",
    "    logits = torch.matmul(out, W2) + B2\n",
    "    test_loss = F.cross_entropy(logits, Y_test)\n",
    "    print(f\"test loss: {test_loss}\")"
   ]
  },
  {
   "cell_type": "markdown",
   "id": "532678f0",
   "metadata": {},
   "source": [
    "### E01: I did not get around to seeing what happens when you initialize all weights and biases to zero. Try this and train the neural net. You might think either that 1) the network trains just fine or 2) the network doesn't train at all, but actually it is 3) the network trains but only partially, and achieves a pretty bad final performance. Inspect the gradients and activations to figure out what is happening and why the network is only partially training, and what part is being trained exactly.\n"
   ]
  },
  {
   "cell_type": "code",
   "execution_count": 275,
   "id": "c2ee4167",
   "metadata": {},
   "outputs": [],
   "source": [
    "C_Z = torch.randn((27, 20))\n",
    "W1_Z = torch.zeros((60, 300))\n",
    "B1_Z = torch.zeros(300)\n",
    "W2_Z = torch.zeros((300, 27))\n",
    "B2_Z = torch.zeros(27)\n",
    "parameters_Z = [C_Z, W1_Z, B1_Z, W2_Z, B2_Z]"
   ]
  },
  {
   "cell_type": "code",
   "execution_count": 276,
   "id": "ce42665d",
   "metadata": {},
   "outputs": [],
   "source": [
    "for p in parameters_Z:\n",
    "    p.requires_grad = True"
   ]
  },
  {
   "cell_type": "code",
   "execution_count": 282,
   "id": "6af65f5b",
   "metadata": {},
   "outputs": [
    {
     "name": "stdout",
     "output_type": "stream",
     "text": [
      "Epoch 1 \t Loss: 3.295837163925171\n",
      "lr=0.01 p.grad=None\n"
     ]
    },
    {
     "ename": "TypeError",
     "evalue": "unsupported operand type(s) for *: 'float' and 'NoneType'",
     "output_type": "error",
     "traceback": [
      "\u001b[0;31m---------------------------------------------------------------------------\u001b[0m",
      "\u001b[0;31mTypeError\u001b[0m                                 Traceback (most recent call last)",
      "Cell \u001b[0;32mIn[282], line 21\u001b[0m\n\u001b[1;32m     19\u001b[0m \u001b[38;5;28;01mfor\u001b[39;00m p \u001b[38;5;129;01min\u001b[39;00m parameters:\n\u001b[1;32m     20\u001b[0m     \u001b[38;5;28mprint\u001b[39m(\u001b[38;5;124mf\u001b[39m\u001b[38;5;124m\"\u001b[39m\u001b[38;5;132;01m{\u001b[39;00mlr\u001b[38;5;132;01m=}\u001b[39;00m\u001b[38;5;124m \u001b[39m\u001b[38;5;132;01m{\u001b[39;00mp\u001b[38;5;241m.\u001b[39mgrad\u001b[38;5;132;01m=}\u001b[39;00m\u001b[38;5;124m\"\u001b[39m)\n\u001b[0;32m---> 21\u001b[0m     p\u001b[38;5;241m.\u001b[39mdata \u001b[38;5;241m+\u001b[39m\u001b[38;5;241m=\u001b[39m \u001b[38;5;241;43m-\u001b[39;49m\u001b[43mlr\u001b[49m\u001b[43m \u001b[49m\u001b[38;5;241;43m*\u001b[39;49m\u001b[43m \u001b[49m\u001b[43mp\u001b[49m\u001b[38;5;241;43m.\u001b[39;49m\u001b[43mgrad\u001b[49m\n\u001b[1;32m     22\u001b[0m     p\u001b[38;5;241m.\u001b[39mgrad \u001b[38;5;241m=\u001b[39m \u001b[38;5;28;01mNone\u001b[39;00m\n",
      "\u001b[0;31mTypeError\u001b[0m: unsupported operand type(s) for *: 'float' and 'NoneType'"
     ]
    }
   ],
   "source": [
    "for i in range(300001):\n",
    "    ix = torch.randint(0, X_train.shape[0], (64, ))\n",
    "    emb = C_Z[X_train[ix]]\n",
    "#     print(f\"emb: {emb.shape}\")\n",
    "    out = torch.tanh(torch.matmul(emb.view(-1, W1_Z.shape[0]), W1_Z) + B1_Z)\n",
    "    logits = torch.matmul(out, W2_Z) + B2_Z\n",
    "    loss = F.cross_entropy(logits, Y_train[ix])\n",
    "    if i%5000 == 0:\n",
    "        with torch.no_grad():\n",
    "            out = torch.tanh(torch.matmul(C_Z[X_train].view(-1, W1_Z.shape[0]), W1_Z) + B1_Z)\n",
    "            logits = torch.matmul(out, W2_Z) + B2_Z\n",
    "            train_loss = F.cross_entropy(logits, Y_train)\n",
    "            print(f\"Epoch {i+1} \\t Loss: {train_loss}\")\n",
    "    loss.backward()\n",
    "    lr_schedule = {0: 0.1, 100000: 0.05, 200000: 0.01, 300000: 0.001}\n",
    "    for threshold, item in lr_schedule.items():\n",
    "        if i > threshold:\n",
    "            lr = item\n",
    "    for p in parameters:\n",
    "        print(f\"{lr=} {p.grad=}\")\n",
    "        p.data += -lr * p.grad\n",
    "        p.grad = None"
   ]
  },
  {
   "cell_type": "markdown",
   "id": "0479777f",
   "metadata": {},
   "source": [
    "### E02: BatchNorm, unlike other normalization layers like LayerNorm/GroupNorm etc. has the big advantage that after training, the batchnorm gamma/beta can be \"folded into\" the weights of the preceeding Linear layers, effectively erasing the need to forward it at test time. Set up a small 3-layer MLP with batchnorms, train the network, then \"fold\" the batchnorm gamma/beta into the preceeding Linear layer's W,b by creating a new W2, b2 and erasing the batch norm. Verify that this gives the same forward pass during inference. i.e. we see that the batchnorm is there just for stabilizing the training, and can be thrown out after training is done! pretty cool.\n"
   ]
  }
 ],
 "metadata": {
  "kernelspec": {
   "display_name": "Python 3 (ipykernel)",
   "language": "python",
   "name": "python3"
  },
  "language_info": {
   "codemirror_mode": {
    "name": "ipython",
    "version": 3
   },
   "file_extension": ".py",
   "mimetype": "text/x-python",
   "name": "python",
   "nbconvert_exporter": "python",
   "pygments_lexer": "ipython3",
   "version": "3.10.10"
  }
 },
 "nbformat": 4,
 "nbformat_minor": 5
}

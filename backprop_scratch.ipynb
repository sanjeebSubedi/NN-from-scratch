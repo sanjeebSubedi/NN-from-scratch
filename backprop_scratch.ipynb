{
  "nbformat": 4,
  "nbformat_minor": 0,
  "metadata": {
    "colab": {
      "provenance": []
    },
    "kernelspec": {
      "name": "python3",
      "display_name": "Python 3"
    },
    "language_info": {
      "name": "python"
    },
    "gpuClass": "standard"
  },
  "cells": [
    {
      "cell_type": "code",
      "source": [
        "import math\n",
        "import numpy as np\n",
        "import matplotlib.pyplot as plt"
      ],
      "metadata": {
        "id": "UMxqcLG2s_ba"
      },
      "execution_count": 8,
      "outputs": []
    },
    {
      "cell_type": "code",
      "source": [
        "l1 = np.linspace(-10, 10, 100)\n",
        "sin_l1 = np.sin(l1)\n",
        "sin_l1"
      ],
      "metadata": {
        "id": "nrMbwgossWka"
      },
      "execution_count": null,
      "outputs": []
    },
    {
      "cell_type": "code",
      "source": [
        "fig, ax = plt.subplots()\n",
        "ax.plot(l1, sin_l1)\n",
        "ax.set_xlabel(\"x\")\n",
        "ax.set_ylabel(\"sin(x)\")"
      ],
      "metadata": {
        "colab": {
          "base_uri": "https://localhost:8080/",
          "height": 296
        },
        "id": "vzjPFEXBtj7E",
        "outputId": "b1c97108-6810-473a-af24-a76d5e846d1c"
      },
      "execution_count": 45,
      "outputs": [
        {
          "output_type": "execute_result",
          "data": {
            "text/plain": [
              "Text(0, 0.5, 'sin(x)')"
            ]
          },
          "metadata": {},
          "execution_count": 45
        },
        {
          "output_type": "display_data",
          "data": {
            "text/plain": [
              "<Figure size 432x288 with 1 Axes>"
            ],
            "image/png": "[encoded data removed]"
          },
          "metadata": {
            "needs_background": "light"
          }
        }
      ]
    },
    {
      "cell_type": "code",
      "source": [
        "# Understanding the derivative of a point in the graph\n",
        "\n",
        "def func(x):\n",
        "  return np.sin(x)\n",
        "\n",
        "h = 0.001\n",
        "\n",
        "x1 = 3.5\n",
        "x2 = -4.7225\n",
        "x3 = -6\n",
        "print((func(x1+h)-func(x1))/h)\n",
        "print((func(x2+h)-func(x2))/h)\n",
        "print((func(x3+h)-func(x3))/h)"
      ],
      "metadata": {
        "colab": {
          "base_uri": "https://localhost:8080/"
        },
        "id": "CgBqwdE3uhJf",
        "outputId": "e878b662-b195-42c5-dc99-edebddfc9843"
      },
      "execution_count": 41,
      "outputs": [
        {
          "output_type": "stream",
          "name": "stdout",
          "text": [
            "-0.9362811396153581\n",
            "0.009610871251175546\n",
            "0.9600304188848718\n"
          ]
        }
      ]
    },
    {
      "cell_type": "code",
      "source": [
        "# partial derivatives of mathematical operations\n",
        "h = 0.001\n",
        "\n",
        "a = 2\n",
        "b = 3\n",
        "c = 6\n",
        "d1 = a*b+c\n",
        "\n",
        "# derivative of d1 a with respect to a \n",
        "a+=h\n",
        "d2 = a*b+c\n",
        "print(f\"d1: {d1}\")\n",
        "print(f\"d2: {d2}\")\n",
        "print(f\"derivative: {(d2-d1)/h}\")"
      ],
      "metadata": {
        "colab": {
          "base_uri": "https://localhost:8080/"
        },
        "id": "nzyJNFcjwSk7",
        "outputId": "3112fcbc-c81f-4302-c857-d970e9eb3c6d"
      },
      "execution_count": 49,
      "outputs": [
        {
          "output_type": "stream",
          "name": "stdout",
          "text": [
            "d1: 12\n",
            "d2: 12.003\n",
            "derivative: 3.0000000000001137\n"
          ]
        }
      ]
    },
    {
      "cell_type": "code",
      "source": [],
      "metadata": {
        "id": "hx_YrpI0x0uK"
      },
      "execution_count": null,
      "outputs": []
    },
    {
      "cell_type": "code",
      "source": [],
      "metadata": {
        "id": "-TuHqKLLx0rT"
      },
      "execution_count": null,
      "outputs": []
    },
    {
      "cell_type": "code",
      "source": [],
      "metadata": {
        "id": "bI0eQL42x0oH"
      },
      "execution_count": null,
      "outputs": []
    },
    {
      "cell_type": "code",
      "source": [
        "from graphviz import Digraph\n",
        "\n",
        "def trace(root):\n",
        "    nodes, edges = set(), set()\n",
        "    def build(v):\n",
        "        if v not in nodes:\n",
        "            nodes.add(v)\n",
        "            for child in v._parents:\n",
        "                edges.add((child, v))\n",
        "                build(child)\n",
        "    build(root)\n",
        "    return nodes, edges\n",
        "\n",
        "def draw_dot(root, format='svg', rankdir='LR'):\n",
        "    \"\"\"\n",
        "    format: png | svg | ...\n",
        "    rankdir: TB (top to bottom graph) | LR (left to right)\n",
        "    \"\"\"\n",
        "    assert rankdir in ['LR', 'TB']\n",
        "    nodes, edges = trace(root)\n",
        "    dot = Digraph(format=format, graph_attr={'rankdir': rankdir}) #, node_attr={'rankdir': 'TB'})\n",
        "    \n",
        "    for n in nodes:\n",
        "        dot.node(name=str(id(n)), label = \"{%s | data %.4f | grad %.4f }\" % (n.label, n.data, n.grad), shape='record')\n",
        "        if n._operation:\n",
        "            dot.node(name=str(id(n)) + n._operation, label=n._operation)\n",
        "            dot.edge(str(id(n)) + n._operation, str(id(n)))\n",
        "    \n",
        "    for n1, n2 in edges:\n",
        "        dot.edge(str(id(n1)), str(id(n2)) + n2._operation)\n",
        "    \n",
        "    return dot"
      ],
      "metadata": {
        "id": "7yksP2Ga8qQQ"
      },
      "execution_count": 183,
      "outputs": []
    },
    {
      "cell_type": "code",
      "execution_count": 256,
      "metadata": {
        "id": "HQWYY57Apo30"
      },
      "outputs": [],
      "source": [
        "class Value:\n",
        "  def __init__(self, data, _parents=(), _operation='', label=''):\n",
        "    assert isinstance(data, int) or isinstance(data, float), \"Number must either be integer, float or Value object\"\n",
        "    \n",
        "    self.data = data\n",
        "    self._parents = set(_parents)\n",
        "    self._operation = _operation\n",
        "    self.label = label\n",
        "    self._backward = lambda: None\n",
        "    self.grad = 0.0\n",
        "  \n",
        "  def __add__(self, addend):\n",
        "    res = Value(self.data + addend.data, (self, addend), '+')\n",
        "    def _backward():\n",
        "      # derivative of a + b wrt a is 1. So chain rule reduces to 1 * res.grad\n",
        "      self.grad += res.grad\n",
        "      addend.grad += res.grad\n",
        "    res._backward = _backward\n",
        "    return res\n",
        "  \n",
        "  def __radd__(self, addend):\n",
        "    res = Value(addend.data + self.data, (self, addend), '+')\n",
        "    def _backward():\n",
        "      self.grad += res.grad\n",
        "      addend.grad += res.grad\n",
        "    res._backward = _backward\n",
        "    return res\n",
        "  \n",
        "  def __mul__(self, multiplier):\n",
        "    res = Value(self.data * multiplier.data, (self, multiplier), '*')\n",
        "    def _backward():\n",
        "      # derivative of a*b is b so chain rule reduces to b.data * res.grad\n",
        "      self.grad += multiplier.data * res.grad\n",
        "      multiplier.grad += self.data * res.grad\n",
        "    res._backward = _backward\n",
        "    return res\n",
        "\n",
        "  def __rmul__(self, multiplier):\n",
        "    res = Value(multiplier.data * self.data, (self, multiplier), '*')\n",
        "    def _backward():\n",
        "      self.grad += multiplier.data * res.grad\n",
        "      multiplier.grad = self.data * res.grad\n",
        "    self._backward = _backward\n",
        "    return res\n",
        "\n",
        "  def __truediv__(self, divider):\n",
        "    return Value(self.data / divider.data)\n",
        "\n",
        "  def __repr__(self):\n",
        "    return f\"Value(data={self.data})\"\n"
      ]
    },
    {
      "cell_type": "code",
      "source": [
        "def delta():\n",
        "  h = 0.001\n",
        "\n",
        "  a = Value(2, label='a')\n",
        "  b = Value(-4, label='b')\n",
        "  c = Value(6, label='c')\n",
        "  d = a * b; d.label='d'\n",
        "  e = d+c; e.label='e'\n",
        "  f = Value(4, label='f')\n",
        "  out1 =  e * f; out1.label = 'out1' \n",
        "\n",
        "\n",
        "  a = Value(2, label='a')\n",
        "  b = Value(-4, label='b')\n",
        "  c = Value(6, label='c')\n",
        "  d = a * b; d.label='d'\n",
        "  e = d+c; e.label='e'\n",
        "  f = Value(4, label='f')\n",
        "  out2 =  e * f; out2.label = 'out2'\n",
        "  out2.data += h\n",
        "\n",
        "  print((out2.data-out1.data)/h)\n",
        "\n",
        "delta()"
      ],
      "metadata": {
        "colab": {
          "base_uri": "https://localhost:8080/"
        },
        "id": "-_AwtNgHsMOW",
        "outputId": "62bca22d-af63-4d7f-874f-9e1db771e863"
      },
      "execution_count": 257,
      "outputs": [
        {
          "output_type": "stream",
          "name": "stdout",
          "text": [
            "1.000000000000334\n"
          ]
        }
      ]
    },
    {
      "cell_type": "code",
      "source": [
        "a = Value(2, label='a')\n",
        "b = Value(-4, label='b')\n",
        "c = Value(6, label='c')\n",
        "d = a * b; d.label='d'\n",
        "e = d+c; e.label='e'\n",
        "f = Value(4, label='f')\n",
        "g =  e * f; g.label = 'g' "
      ],
      "metadata": {
        "id": "m48pCp6WUYYt"
      },
      "execution_count": 258,
      "outputs": []
    },
    {
      "cell_type": "code",
      "source": [
        "g.grad = 1.0"
      ],
      "metadata": {
        "id": "EAc0a6-WSud9"
      },
      "execution_count": 259,
      "outputs": []
    },
    {
      "cell_type": "code",
      "source": [
        "g._backward()"
      ],
      "metadata": {
        "id": "Hch99FZu0nVq"
      },
      "execution_count": 260,
      "outputs": []
    },
    {
      "cell_type": "code",
      "source": [
        "for pr in g._parents:\n",
        "  print(pr)"
      ],
      "metadata": {
        "colab": {
          "base_uri": "https://localhost:8080/"
        },
        "id": "97fdLzfJUzHx",
        "outputId": "67d23f8b-7b76-47bd-c4d9-841eeaebbac9"
      },
      "execution_count": 239,
      "outputs": [
        {
          "output_type": "stream",
          "name": "stdout",
          "text": [
            "Value(data=-2)\n",
            "Value(data=4)\n"
          ]
        }
      ]
    },
    {
      "cell_type": "code",
      "source": [
        "draw_dot(g)"
      ],
      "metadata": {
        "colab": {
          "base_uri": "https://localhost:8080/",
          "height": 246
        },
        "id": "9ubRKRqWGvqU",
        "outputId": "fac80d38-dfae-4f2d-d0e3-fef51dd20c23"
      },
      "execution_count": 261,
      "outputs": [
        {
          "output_type": "execute_result",
          "data": {
            "text/plain": [
              "<graphviz.dot.Digraph at 0x7f20d14fad30>"
            ],
            "image/svg+xml": "<?xml version=\"1.0\" encoding=\"UTF-8\" standalone=\"no\"?>\n<!DOCTYPE svg PUBLIC \"-//W3C//DTD SVG 1.1//EN\"\n \"http://www.w3.org/Graphics/SVG/1.1/DTD/svg11.dtd\">\n<!-- Generated by graphviz version 2.43.0 (0)\n -->\n<!-- Title: %3 Pages: 1 -->\n<svg width=\"1146pt\" height=\"154pt\"\n viewBox=\"0.00 0.00 1146.00 154.00\" xmlns=\"http://www.w3.org/2000/svg\" xmlns:xlink=\"http://www.w3.org/1999/xlink\">\n<g id=\"graph0\" class=\"graph\" transform=\"scale(1 1) rotate(0) translate(4 150)\">\n<title>%3</title>\n<polygon fill=\"white\" stroke=\"transparent\" points=\"-4,4 -4,-150 1142,-150 1142,4 -4,4\"/>\n<!-- 139778927467056 -->\n<g id=\"node1\" class=\"node\">\n<title>139778927467056</title>\n<polygon fill=\"none\" stroke=\"black\" points=\"632,-54.5 632,-90.5 822,-90.5 822,-54.5 632,-54.5\"/>\n<text text-anchor=\"middle\" x=\"643.5\" y=\"-68.8\" font-family=\"Times,serif\" font-size=\"14.00\">e</text>\n<polyline fill=\"none\" stroke=\"black\" points=\"655,-54.5 655,-90.5 \"/>\n<text text-anchor=\"middle\" x=\"697.5\" y=\"-68.8\" font-family=\"Times,serif\" font-size=\"14.00\">data &#45;2.0000</text>\n<polyline fill=\"none\" stroke=\"black\" points=\"740,-54.5 740,-90.5 \"/>\n<text text-anchor=\"middle\" x=\"781\" y=\"-68.8\" font-family=\"Times,serif\" font-size=\"14.00\">grad 4.0000</text>\n</g>\n<!-- 139778927466480* -->\n<g id=\"node10\" class=\"node\">\n<title>139778927466480*</title>\n<ellipse fill=\"none\" stroke=\"black\" cx=\"885\" cy=\"-99.5\" rx=\"27\" ry=\"18\"/>\n<text text-anchor=\"middle\" x=\"885\" y=\"-95.8\" font-family=\"Times,serif\" font-size=\"14.00\">*</text>\n</g>\n<!-- 139778927467056&#45;&gt;139778927466480* -->\n<g id=\"edge5\" class=\"edge\">\n<title>139778927467056&#45;&gt;139778927466480*</title>\n<path fill=\"none\" stroke=\"black\" d=\"M822.34,-88.83C831.62,-90.44 840.58,-91.99 848.66,-93.38\"/>\n<polygon fill=\"black\" stroke=\"black\" points=\"848.27,-96.87 858.72,-95.12 849.46,-89.97 848.27,-96.87\"/>\n</g>\n<!-- 139778927467056+ -->\n<g id=\"node2\" class=\"node\">\n<title>139778927467056+</title>\n<ellipse fill=\"none\" stroke=\"black\" cx=\"569\" cy=\"-72.5\" rx=\"27\" ry=\"18\"/>\n<text text-anchor=\"middle\" x=\"569\" y=\"-68.8\" font-family=\"Times,serif\" font-size=\"14.00\">+</text>\n</g>\n<!-- 139778927467056+&#45;&gt;139778927467056 -->\n<g id=\"edge1\" class=\"edge\">\n<title>139778927467056+&#45;&gt;139778927467056</title>\n<path fill=\"none\" stroke=\"black\" d=\"M596.11,-72.5C603.63,-72.5 612.32,-72.5 621.58,-72.5\"/>\n<polygon fill=\"black\" stroke=\"black\" points=\"621.81,-76 631.81,-72.5 621.81,-69 621.81,-76\"/>\n</g>\n<!-- 139778927466576 -->\n<g id=\"node3\" class=\"node\">\n<title>139778927466576</title>\n<polygon fill=\"none\" stroke=\"black\" points=\"633.5,-109.5 633.5,-145.5 820.5,-145.5 820.5,-109.5 633.5,-109.5\"/>\n<text text-anchor=\"middle\" x=\"644\" y=\"-123.8\" font-family=\"Times,serif\" font-size=\"14.00\">f</text>\n<polyline fill=\"none\" stroke=\"black\" points=\"654.5,-109.5 654.5,-145.5 \"/>\n<text text-anchor=\"middle\" x=\"694.5\" y=\"-123.8\" font-family=\"Times,serif\" font-size=\"14.00\">data 4.0000</text>\n<polyline fill=\"none\" stroke=\"black\" points=\"734.5,-109.5 734.5,-145.5 \"/>\n<text text-anchor=\"middle\" x=\"777.5\" y=\"-123.8\" font-family=\"Times,serif\" font-size=\"14.00\">grad &#45;2.0000</text>\n</g>\n<!-- 139778927466576&#45;&gt;139778927466480* -->\n<g id=\"edge7\" class=\"edge\">\n<title>139778927466576&#45;&gt;139778927466480*</title>\n<path fill=\"none\" stroke=\"black\" d=\"M820.55,-110.89C830.53,-109.1 840.18,-107.36 848.82,-105.81\"/>\n<polygon fill=\"black\" stroke=\"black\" points=\"849.58,-109.23 858.81,-104.02 848.34,-102.34 849.58,-109.23\"/>\n</g>\n<!-- 139778927468208 -->\n<g id=\"node4\" class=\"node\">\n<title>139778927468208</title>\n<polygon fill=\"none\" stroke=\"black\" points=\"0,-55.5 0,-91.5 190,-91.5 190,-55.5 0,-55.5\"/>\n<text text-anchor=\"middle\" x=\"11.5\" y=\"-69.8\" font-family=\"Times,serif\" font-size=\"14.00\">b</text>\n<polyline fill=\"none\" stroke=\"black\" points=\"23,-55.5 23,-91.5 \"/>\n<text text-anchor=\"middle\" x=\"65.5\" y=\"-69.8\" font-family=\"Times,serif\" font-size=\"14.00\">data &#45;4.0000</text>\n<polyline fill=\"none\" stroke=\"black\" points=\"108,-55.5 108,-91.5 \"/>\n<text text-anchor=\"middle\" x=\"149\" y=\"-69.8\" font-family=\"Times,serif\" font-size=\"14.00\">grad 0.0000</text>\n</g>\n<!-- 139778927468448* -->\n<g id=\"node8\" class=\"node\">\n<title>139778927468448*</title>\n<ellipse fill=\"none\" stroke=\"black\" cx=\"253\" cy=\"-45.5\" rx=\"27\" ry=\"18\"/>\n<text text-anchor=\"middle\" x=\"253\" y=\"-41.8\" font-family=\"Times,serif\" font-size=\"14.00\">*</text>\n</g>\n<!-- 139778927468208&#45;&gt;139778927468448* -->\n<g id=\"edge9\" class=\"edge\">\n<title>139778927468208&#45;&gt;139778927468448*</title>\n<path fill=\"none\" stroke=\"black\" d=\"M190.34,-56.57C199.62,-54.9 208.58,-53.29 216.66,-51.84\"/>\n<polygon fill=\"black\" stroke=\"black\" points=\"217.49,-55.25 226.72,-50.04 216.26,-48.36 217.49,-55.25\"/>\n</g>\n<!-- 139778927464752 -->\n<g id=\"node5\" class=\"node\">\n<title>139778927464752</title>\n<polygon fill=\"none\" stroke=\"black\" points=\"2.5,-0.5 2.5,-36.5 187.5,-36.5 187.5,-0.5 2.5,-0.5\"/>\n<text text-anchor=\"middle\" x=\"14\" y=\"-14.8\" font-family=\"Times,serif\" font-size=\"14.00\">a</text>\n<polyline fill=\"none\" stroke=\"black\" points=\"25.5,-0.5 25.5,-36.5 \"/>\n<text text-anchor=\"middle\" x=\"65.5\" y=\"-14.8\" font-family=\"Times,serif\" font-size=\"14.00\">data 2.0000</text>\n<polyline fill=\"none\" stroke=\"black\" points=\"105.5,-0.5 105.5,-36.5 \"/>\n<text text-anchor=\"middle\" x=\"146.5\" y=\"-14.8\" font-family=\"Times,serif\" font-size=\"14.00\">grad 0.0000</text>\n</g>\n<!-- 139778927464752&#45;&gt;139778927468448* -->\n<g id=\"edge6\" class=\"edge\">\n<title>139778927464752&#45;&gt;139778927468448*</title>\n<path fill=\"none\" stroke=\"black\" d=\"M187.65,-34.36C197.94,-36.14 207.91,-37.87 216.81,-39.41\"/>\n<polygon fill=\"black\" stroke=\"black\" points=\"216.26,-42.87 226.71,-41.12 217.45,-35.97 216.26,-42.87\"/>\n</g>\n<!-- 139778927466816 -->\n<g id=\"node6\" class=\"node\">\n<title>139778927466816</title>\n<polygon fill=\"none\" stroke=\"black\" points=\"318.5,-82.5 318.5,-118.5 503.5,-118.5 503.5,-82.5 318.5,-82.5\"/>\n<text text-anchor=\"middle\" x=\"330\" y=\"-96.8\" font-family=\"Times,serif\" font-size=\"14.00\">c</text>\n<polyline fill=\"none\" stroke=\"black\" points=\"341.5,-82.5 341.5,-118.5 \"/>\n<text text-anchor=\"middle\" x=\"381.5\" y=\"-96.8\" font-family=\"Times,serif\" font-size=\"14.00\">data 6.0000</text>\n<polyline fill=\"none\" stroke=\"black\" points=\"421.5,-82.5 421.5,-118.5 \"/>\n<text text-anchor=\"middle\" x=\"462.5\" y=\"-96.8\" font-family=\"Times,serif\" font-size=\"14.00\">grad 0.0000</text>\n</g>\n<!-- 139778927466816&#45;&gt;139778927467056+ -->\n<g id=\"edge4\" class=\"edge\">\n<title>139778927466816&#45;&gt;139778927467056+</title>\n<path fill=\"none\" stroke=\"black\" d=\"M503.65,-84.05C513.94,-82.2 523.91,-80.41 532.81,-78.82\"/>\n<polygon fill=\"black\" stroke=\"black\" points=\"533.48,-82.25 542.71,-77.04 532.25,-75.36 533.48,-82.25\"/>\n</g>\n<!-- 139778927468448 -->\n<g id=\"node7\" class=\"node\">\n<title>139778927468448</title>\n<polygon fill=\"none\" stroke=\"black\" points=\"316,-27.5 316,-63.5 506,-63.5 506,-27.5 316,-27.5\"/>\n<text text-anchor=\"middle\" x=\"327.5\" y=\"-41.8\" font-family=\"Times,serif\" font-size=\"14.00\">d</text>\n<polyline fill=\"none\" stroke=\"black\" points=\"339,-27.5 339,-63.5 \"/>\n<text text-anchor=\"middle\" x=\"381.5\" y=\"-41.8\" font-family=\"Times,serif\" font-size=\"14.00\">data &#45;8.0000</text>\n<polyline fill=\"none\" stroke=\"black\" points=\"424,-27.5 424,-63.5 \"/>\n<text text-anchor=\"middle\" x=\"465\" y=\"-41.8\" font-family=\"Times,serif\" font-size=\"14.00\">grad 0.0000</text>\n</g>\n<!-- 139778927468448&#45;&gt;139778927467056+ -->\n<g id=\"edge8\" class=\"edge\">\n<title>139778927468448&#45;&gt;139778927467056+</title>\n<path fill=\"none\" stroke=\"black\" d=\"M506.34,-61.83C515.62,-63.44 524.58,-64.99 532.66,-66.38\"/>\n<polygon fill=\"black\" stroke=\"black\" points=\"532.27,-69.87 542.72,-68.12 533.46,-62.97 532.27,-69.87\"/>\n</g>\n<!-- 139778927468448*&#45;&gt;139778927468448 -->\n<g id=\"edge2\" class=\"edge\">\n<title>139778927468448*&#45;&gt;139778927468448</title>\n<path fill=\"none\" stroke=\"black\" d=\"M280.11,-45.5C287.63,-45.5 296.32,-45.5 305.58,-45.5\"/>\n<polygon fill=\"black\" stroke=\"black\" points=\"305.81,-49 315.81,-45.5 305.81,-42 305.81,-49\"/>\n</g>\n<!-- 139778927466480 -->\n<g id=\"node9\" class=\"node\">\n<title>139778927466480</title>\n<polygon fill=\"none\" stroke=\"black\" points=\"948,-81.5 948,-117.5 1138,-117.5 1138,-81.5 948,-81.5\"/>\n<text text-anchor=\"middle\" x=\"959.5\" y=\"-95.8\" font-family=\"Times,serif\" font-size=\"14.00\">g</text>\n<polyline fill=\"none\" stroke=\"black\" points=\"971,-81.5 971,-117.5 \"/>\n<text text-anchor=\"middle\" x=\"1013.5\" y=\"-95.8\" font-family=\"Times,serif\" font-size=\"14.00\">data &#45;8.0000</text>\n<polyline fill=\"none\" stroke=\"black\" points=\"1056,-81.5 1056,-117.5 \"/>\n<text text-anchor=\"middle\" x=\"1097\" y=\"-95.8\" font-family=\"Times,serif\" font-size=\"14.00\">grad 1.0000</text>\n</g>\n<!-- 139778927466480*&#45;&gt;139778927466480 -->\n<g id=\"edge3\" class=\"edge\">\n<title>139778927466480*&#45;&gt;139778927466480</title>\n<path fill=\"none\" stroke=\"black\" d=\"M912.11,-99.5C919.63,-99.5 928.32,-99.5 937.58,-99.5\"/>\n<polygon fill=\"black\" stroke=\"black\" points=\"937.81,-103 947.81,-99.5 937.81,-96 937.81,-103\"/>\n</g>\n</g>\n</svg>\n"
          },
          "metadata": {},
          "execution_count": 261
        }
      ]
    },
    {
      "cell_type": "code",
      "source": [
        "e._backward()"
      ],
      "metadata": {
        "id": "Zxm1XqlwdhSd"
      },
      "execution_count": 262,
      "outputs": []
    },
    {
      "cell_type": "code",
      "source": [
        "draw_dot(g)"
      ],
      "metadata": {
        "colab": {
          "base_uri": "https://localhost:8080/",
          "height": 246
        },
        "id": "-yw06oCCdj03",
        "outputId": "49043a50-388b-45f0-8a03-03efd1d219be"
      },
      "execution_count": 263,
      "outputs": [
        {
          "output_type": "execute_result",
          "data": {
            "text/plain": [
              "<graphviz.dot.Digraph at 0x7f20d14facd0>"
            ],
            "image/svg+xml": "<?xml version=\"1.0\" encoding=\"UTF-8\" standalone=\"no\"?>\n<!DOCTYPE svg PUBLIC \"-//W3C//DTD SVG 1.1//EN\"\n \"http://www.w3.org/Graphics/SVG/1.1/DTD/svg11.dtd\">\n<!-- Generated by graphviz version 2.43.0 (0)\n -->\n<!-- Title: %3 Pages: 1 -->\n<svg width=\"1146pt\" height=\"154pt\"\n viewBox=\"0.00 0.00 1146.00 154.00\" xmlns=\"http://www.w3.org/2000/svg\" xmlns:xlink=\"http://www.w3.org/1999/xlink\">\n<g id=\"graph0\" class=\"graph\" transform=\"scale(1 1) rotate(0) translate(4 150)\">\n<title>%3</title>\n<polygon fill=\"white\" stroke=\"transparent\" points=\"-4,4 -4,-150 1142,-150 1142,4 -4,4\"/>\n<!-- 139778927467056 -->\n<g id=\"node1\" class=\"node\">\n<title>139778927467056</title>\n<polygon fill=\"none\" stroke=\"black\" points=\"632,-54.5 632,-90.5 822,-90.5 822,-54.5 632,-54.5\"/>\n<text text-anchor=\"middle\" x=\"643.5\" y=\"-68.8\" font-family=\"Times,serif\" font-size=\"14.00\">e</text>\n<polyline fill=\"none\" stroke=\"black\" points=\"655,-54.5 655,-90.5 \"/>\n<text text-anchor=\"middle\" x=\"697.5\" y=\"-68.8\" font-family=\"Times,serif\" font-size=\"14.00\">data &#45;2.0000</text>\n<polyline fill=\"none\" stroke=\"black\" points=\"740,-54.5 740,-90.5 \"/>\n<text text-anchor=\"middle\" x=\"781\" y=\"-68.8\" font-family=\"Times,serif\" font-size=\"14.00\">grad 4.0000</text>\n</g>\n<!-- 139778927466480* -->\n<g id=\"node10\" class=\"node\">\n<title>139778927466480*</title>\n<ellipse fill=\"none\" stroke=\"black\" cx=\"885\" cy=\"-99.5\" rx=\"27\" ry=\"18\"/>\n<text text-anchor=\"middle\" x=\"885\" y=\"-95.8\" font-family=\"Times,serif\" font-size=\"14.00\">*</text>\n</g>\n<!-- 139778927467056&#45;&gt;139778927466480* -->\n<g id=\"edge5\" class=\"edge\">\n<title>139778927467056&#45;&gt;139778927466480*</title>\n<path fill=\"none\" stroke=\"black\" d=\"M822.34,-88.83C831.62,-90.44 840.58,-91.99 848.66,-93.38\"/>\n<polygon fill=\"black\" stroke=\"black\" points=\"848.27,-96.87 858.72,-95.12 849.46,-89.97 848.27,-96.87\"/>\n</g>\n<!-- 139778927467056+ -->\n<g id=\"node2\" class=\"node\">\n<title>139778927467056+</title>\n<ellipse fill=\"none\" stroke=\"black\" cx=\"569\" cy=\"-72.5\" rx=\"27\" ry=\"18\"/>\n<text text-anchor=\"middle\" x=\"569\" y=\"-68.8\" font-family=\"Times,serif\" font-size=\"14.00\">+</text>\n</g>\n<!-- 139778927467056+&#45;&gt;139778927467056 -->\n<g id=\"edge1\" class=\"edge\">\n<title>139778927467056+&#45;&gt;139778927467056</title>\n<path fill=\"none\" stroke=\"black\" d=\"M596.11,-72.5C603.63,-72.5 612.32,-72.5 621.58,-72.5\"/>\n<polygon fill=\"black\" stroke=\"black\" points=\"621.81,-76 631.81,-72.5 621.81,-69 621.81,-76\"/>\n</g>\n<!-- 139778927466576 -->\n<g id=\"node3\" class=\"node\">\n<title>139778927466576</title>\n<polygon fill=\"none\" stroke=\"black\" points=\"633.5,-109.5 633.5,-145.5 820.5,-145.5 820.5,-109.5 633.5,-109.5\"/>\n<text text-anchor=\"middle\" x=\"644\" y=\"-123.8\" font-family=\"Times,serif\" font-size=\"14.00\">f</text>\n<polyline fill=\"none\" stroke=\"black\" points=\"654.5,-109.5 654.5,-145.5 \"/>\n<text text-anchor=\"middle\" x=\"694.5\" y=\"-123.8\" font-family=\"Times,serif\" font-size=\"14.00\">data 4.0000</text>\n<polyline fill=\"none\" stroke=\"black\" points=\"734.5,-109.5 734.5,-145.5 \"/>\n<text text-anchor=\"middle\" x=\"777.5\" y=\"-123.8\" font-family=\"Times,serif\" font-size=\"14.00\">grad &#45;2.0000</text>\n</g>\n<!-- 139778927466576&#45;&gt;139778927466480* -->\n<g id=\"edge7\" class=\"edge\">\n<title>139778927466576&#45;&gt;139778927466480*</title>\n<path fill=\"none\" stroke=\"black\" d=\"M820.55,-110.89C830.53,-109.1 840.18,-107.36 848.82,-105.81\"/>\n<polygon fill=\"black\" stroke=\"black\" points=\"849.58,-109.23 858.81,-104.02 848.34,-102.34 849.58,-109.23\"/>\n</g>\n<!-- 139778927468208 -->\n<g id=\"node4\" class=\"node\">\n<title>139778927468208</title>\n<polygon fill=\"none\" stroke=\"black\" points=\"0,-55.5 0,-91.5 190,-91.5 190,-55.5 0,-55.5\"/>\n<text text-anchor=\"middle\" x=\"11.5\" y=\"-69.8\" font-family=\"Times,serif\" font-size=\"14.00\">b</text>\n<polyline fill=\"none\" stroke=\"black\" points=\"23,-55.5 23,-91.5 \"/>\n<text text-anchor=\"middle\" x=\"65.5\" y=\"-69.8\" font-family=\"Times,serif\" font-size=\"14.00\">data &#45;4.0000</text>\n<polyline fill=\"none\" stroke=\"black\" points=\"108,-55.5 108,-91.5 \"/>\n<text text-anchor=\"middle\" x=\"149\" y=\"-69.8\" font-family=\"Times,serif\" font-size=\"14.00\">grad 0.0000</text>\n</g>\n<!-- 139778927468448* -->\n<g id=\"node8\" class=\"node\">\n<title>139778927468448*</title>\n<ellipse fill=\"none\" stroke=\"black\" cx=\"253\" cy=\"-45.5\" rx=\"27\" ry=\"18\"/>\n<text text-anchor=\"middle\" x=\"253\" y=\"-41.8\" font-family=\"Times,serif\" font-size=\"14.00\">*</text>\n</g>\n<!-- 139778927468208&#45;&gt;139778927468448* -->\n<g id=\"edge9\" class=\"edge\">\n<title>139778927468208&#45;&gt;139778927468448*</title>\n<path fill=\"none\" stroke=\"black\" d=\"M190.34,-56.57C199.62,-54.9 208.58,-53.29 216.66,-51.84\"/>\n<polygon fill=\"black\" stroke=\"black\" points=\"217.49,-55.25 226.72,-50.04 216.26,-48.36 217.49,-55.25\"/>\n</g>\n<!-- 139778927464752 -->\n<g id=\"node5\" class=\"node\">\n<title>139778927464752</title>\n<polygon fill=\"none\" stroke=\"black\" points=\"2.5,-0.5 2.5,-36.5 187.5,-36.5 187.5,-0.5 2.5,-0.5\"/>\n<text text-anchor=\"middle\" x=\"14\" y=\"-14.8\" font-family=\"Times,serif\" font-size=\"14.00\">a</text>\n<polyline fill=\"none\" stroke=\"black\" points=\"25.5,-0.5 25.5,-36.5 \"/>\n<text text-anchor=\"middle\" x=\"65.5\" y=\"-14.8\" font-family=\"Times,serif\" font-size=\"14.00\">data 2.0000</text>\n<polyline fill=\"none\" stroke=\"black\" points=\"105.5,-0.5 105.5,-36.5 \"/>\n<text text-anchor=\"middle\" x=\"146.5\" y=\"-14.8\" font-family=\"Times,serif\" font-size=\"14.00\">grad 0.0000</text>\n</g>\n<!-- 139778927464752&#45;&gt;139778927468448* -->\n<g id=\"edge6\" class=\"edge\">\n<title>139778927464752&#45;&gt;139778927468448*</title>\n<path fill=\"none\" stroke=\"black\" d=\"M187.65,-34.36C197.94,-36.14 207.91,-37.87 216.81,-39.41\"/>\n<polygon fill=\"black\" stroke=\"black\" points=\"216.26,-42.87 226.71,-41.12 217.45,-35.97 216.26,-42.87\"/>\n</g>\n<!-- 139778927466816 -->\n<g id=\"node6\" class=\"node\">\n<title>139778927466816</title>\n<polygon fill=\"none\" stroke=\"black\" points=\"318.5,-82.5 318.5,-118.5 503.5,-118.5 503.5,-82.5 318.5,-82.5\"/>\n<text text-anchor=\"middle\" x=\"330\" y=\"-96.8\" font-family=\"Times,serif\" font-size=\"14.00\">c</text>\n<polyline fill=\"none\" stroke=\"black\" points=\"341.5,-82.5 341.5,-118.5 \"/>\n<text text-anchor=\"middle\" x=\"381.5\" y=\"-96.8\" font-family=\"Times,serif\" font-size=\"14.00\">data 6.0000</text>\n<polyline fill=\"none\" stroke=\"black\" points=\"421.5,-82.5 421.5,-118.5 \"/>\n<text text-anchor=\"middle\" x=\"462.5\" y=\"-96.8\" font-family=\"Times,serif\" font-size=\"14.00\">grad 4.0000</text>\n</g>\n<!-- 139778927466816&#45;&gt;139778927467056+ -->\n<g id=\"edge4\" class=\"edge\">\n<title>139778927466816&#45;&gt;139778927467056+</title>\n<path fill=\"none\" stroke=\"black\" d=\"M503.65,-84.05C513.94,-82.2 523.91,-80.41 532.81,-78.82\"/>\n<polygon fill=\"black\" stroke=\"black\" points=\"533.48,-82.25 542.71,-77.04 532.25,-75.36 533.48,-82.25\"/>\n</g>\n<!-- 139778927468448 -->\n<g id=\"node7\" class=\"node\">\n<title>139778927468448</title>\n<polygon fill=\"none\" stroke=\"black\" points=\"316,-27.5 316,-63.5 506,-63.5 506,-27.5 316,-27.5\"/>\n<text text-anchor=\"middle\" x=\"327.5\" y=\"-41.8\" font-family=\"Times,serif\" font-size=\"14.00\">d</text>\n<polyline fill=\"none\" stroke=\"black\" points=\"339,-27.5 339,-63.5 \"/>\n<text text-anchor=\"middle\" x=\"381.5\" y=\"-41.8\" font-family=\"Times,serif\" font-size=\"14.00\">data &#45;8.0000</text>\n<polyline fill=\"none\" stroke=\"black\" points=\"424,-27.5 424,-63.5 \"/>\n<text text-anchor=\"middle\" x=\"465\" y=\"-41.8\" font-family=\"Times,serif\" font-size=\"14.00\">grad 4.0000</text>\n</g>\n<!-- 139778927468448&#45;&gt;139778927467056+ -->\n<g id=\"edge8\" class=\"edge\">\n<title>139778927468448&#45;&gt;139778927467056+</title>\n<path fill=\"none\" stroke=\"black\" d=\"M506.34,-61.83C515.62,-63.44 524.58,-64.99 532.66,-66.38\"/>\n<polygon fill=\"black\" stroke=\"black\" points=\"532.27,-69.87 542.72,-68.12 533.46,-62.97 532.27,-69.87\"/>\n</g>\n<!-- 139778927468448*&#45;&gt;139778927468448 -->\n<g id=\"edge2\" class=\"edge\">\n<title>139778927468448*&#45;&gt;139778927468448</title>\n<path fill=\"none\" stroke=\"black\" d=\"M280.11,-45.5C287.63,-45.5 296.32,-45.5 305.58,-45.5\"/>\n<polygon fill=\"black\" stroke=\"black\" points=\"305.81,-49 315.81,-45.5 305.81,-42 305.81,-49\"/>\n</g>\n<!-- 139778927466480 -->\n<g id=\"node9\" class=\"node\">\n<title>139778927466480</title>\n<polygon fill=\"none\" stroke=\"black\" points=\"948,-81.5 948,-117.5 1138,-117.5 1138,-81.5 948,-81.5\"/>\n<text text-anchor=\"middle\" x=\"959.5\" y=\"-95.8\" font-family=\"Times,serif\" font-size=\"14.00\">g</text>\n<polyline fill=\"none\" stroke=\"black\" points=\"971,-81.5 971,-117.5 \"/>\n<text text-anchor=\"middle\" x=\"1013.5\" y=\"-95.8\" font-family=\"Times,serif\" font-size=\"14.00\">data &#45;8.0000</text>\n<polyline fill=\"none\" stroke=\"black\" points=\"1056,-81.5 1056,-117.5 \"/>\n<text text-anchor=\"middle\" x=\"1097\" y=\"-95.8\" font-family=\"Times,serif\" font-size=\"14.00\">grad 1.0000</text>\n</g>\n<!-- 139778927466480*&#45;&gt;139778927466480 -->\n<g id=\"edge3\" class=\"edge\">\n<title>139778927466480*&#45;&gt;139778927466480</title>\n<path fill=\"none\" stroke=\"black\" d=\"M912.11,-99.5C919.63,-99.5 928.32,-99.5 937.58,-99.5\"/>\n<polygon fill=\"black\" stroke=\"black\" points=\"937.81,-103 947.81,-99.5 937.81,-96 937.81,-103\"/>\n</g>\n</g>\n</svg>\n"
          },
          "metadata": {},
          "execution_count": 263
        }
      ]
    },
    {
      "cell_type": "code",
      "source": [
        "d._backward()\n",
        "draw_dot(g)"
      ],
      "metadata": {
        "colab": {
          "base_uri": "https://localhost:8080/",
          "height": 246
        },
        "id": "tzzv8kV-doMv",
        "outputId": "799f3d26-0936-4a90-b2f0-6dc16cfc6f61"
      },
      "execution_count": 264,
      "outputs": [
        {
          "output_type": "execute_result",
          "data": {
            "text/plain": [
              "<graphviz.dot.Digraph at 0x7f20d04dc490>"
            ],
            "image/svg+xml": "<?xml version=\"1.0\" encoding=\"UTF-8\" standalone=\"no\"?>\n<!DOCTYPE svg PUBLIC \"-//W3C//DTD SVG 1.1//EN\"\n \"http://www.w3.org/Graphics/SVG/1.1/DTD/svg11.dtd\">\n<!-- Generated by graphviz version 2.43.0 (0)\n -->\n<!-- Title: %3 Pages: 1 -->\n<svg width=\"1152pt\" height=\"154pt\"\n viewBox=\"0.00 0.00 1152.00 154.00\" xmlns=\"http://www.w3.org/2000/svg\" xmlns:xlink=\"http://www.w3.org/1999/xlink\">\n<g id=\"graph0\" class=\"graph\" transform=\"scale(1 1) rotate(0) translate(4 150)\">\n<title>%3</title>\n<polygon fill=\"white\" stroke=\"transparent\" points=\"-4,4 -4,-150 1148,-150 1148,4 -4,4\"/>\n<!-- 139778927467056 -->\n<g id=\"node1\" class=\"node\">\n<title>139778927467056</title>\n<polygon fill=\"none\" stroke=\"black\" points=\"638,-54.5 638,-90.5 828,-90.5 828,-54.5 638,-54.5\"/>\n<text text-anchor=\"middle\" x=\"649.5\" y=\"-68.8\" font-family=\"Times,serif\" font-size=\"14.00\">e</text>\n<polyline fill=\"none\" stroke=\"black\" points=\"661,-54.5 661,-90.5 \"/>\n<text text-anchor=\"middle\" x=\"703.5\" y=\"-68.8\" font-family=\"Times,serif\" font-size=\"14.00\">data &#45;2.0000</text>\n<polyline fill=\"none\" stroke=\"black\" points=\"746,-54.5 746,-90.5 \"/>\n<text text-anchor=\"middle\" x=\"787\" y=\"-68.8\" font-family=\"Times,serif\" font-size=\"14.00\">grad 4.0000</text>\n</g>\n<!-- 139778927466480* -->\n<g id=\"node10\" class=\"node\">\n<title>139778927466480*</title>\n<ellipse fill=\"none\" stroke=\"black\" cx=\"891\" cy=\"-99.5\" rx=\"27\" ry=\"18\"/>\n<text text-anchor=\"middle\" x=\"891\" y=\"-95.8\" font-family=\"Times,serif\" font-size=\"14.00\">*</text>\n</g>\n<!-- 139778927467056&#45;&gt;139778927466480* -->\n<g id=\"edge5\" class=\"edge\">\n<title>139778927467056&#45;&gt;139778927466480*</title>\n<path fill=\"none\" stroke=\"black\" d=\"M828.34,-88.83C837.62,-90.44 846.58,-91.99 854.66,-93.38\"/>\n<polygon fill=\"black\" stroke=\"black\" points=\"854.27,-96.87 864.72,-95.12 855.46,-89.97 854.27,-96.87\"/>\n</g>\n<!-- 139778927467056+ -->\n<g id=\"node2\" class=\"node\">\n<title>139778927467056+</title>\n<ellipse fill=\"none\" stroke=\"black\" cx=\"575\" cy=\"-72.5\" rx=\"27\" ry=\"18\"/>\n<text text-anchor=\"middle\" x=\"575\" y=\"-68.8\" font-family=\"Times,serif\" font-size=\"14.00\">+</text>\n</g>\n<!-- 139778927467056+&#45;&gt;139778927467056 -->\n<g id=\"edge1\" class=\"edge\">\n<title>139778927467056+&#45;&gt;139778927467056</title>\n<path fill=\"none\" stroke=\"black\" d=\"M602.11,-72.5C609.63,-72.5 618.32,-72.5 627.58,-72.5\"/>\n<polygon fill=\"black\" stroke=\"black\" points=\"627.81,-76 637.81,-72.5 627.81,-69 627.81,-76\"/>\n</g>\n<!-- 139778927466576 -->\n<g id=\"node3\" class=\"node\">\n<title>139778927466576</title>\n<polygon fill=\"none\" stroke=\"black\" points=\"639.5,-109.5 639.5,-145.5 826.5,-145.5 826.5,-109.5 639.5,-109.5\"/>\n<text text-anchor=\"middle\" x=\"650\" y=\"-123.8\" font-family=\"Times,serif\" font-size=\"14.00\">f</text>\n<polyline fill=\"none\" stroke=\"black\" points=\"660.5,-109.5 660.5,-145.5 \"/>\n<text text-anchor=\"middle\" x=\"700.5\" y=\"-123.8\" font-family=\"Times,serif\" font-size=\"14.00\">data 4.0000</text>\n<polyline fill=\"none\" stroke=\"black\" points=\"740.5,-109.5 740.5,-145.5 \"/>\n<text text-anchor=\"middle\" x=\"783.5\" y=\"-123.8\" font-family=\"Times,serif\" font-size=\"14.00\">grad &#45;2.0000</text>\n</g>\n<!-- 139778927466576&#45;&gt;139778927466480* -->\n<g id=\"edge7\" class=\"edge\">\n<title>139778927466576&#45;&gt;139778927466480*</title>\n<path fill=\"none\" stroke=\"black\" d=\"M826.55,-110.89C836.53,-109.1 846.18,-107.36 854.82,-105.81\"/>\n<polygon fill=\"black\" stroke=\"black\" points=\"855.58,-109.23 864.81,-104.02 854.34,-102.34 855.58,-109.23\"/>\n</g>\n<!-- 139778927468208 -->\n<g id=\"node4\" class=\"node\">\n<title>139778927468208</title>\n<polygon fill=\"none\" stroke=\"black\" points=\"3,-55.5 3,-91.5 193,-91.5 193,-55.5 3,-55.5\"/>\n<text text-anchor=\"middle\" x=\"14.5\" y=\"-69.8\" font-family=\"Times,serif\" font-size=\"14.00\">b</text>\n<polyline fill=\"none\" stroke=\"black\" points=\"26,-55.5 26,-91.5 \"/>\n<text text-anchor=\"middle\" x=\"68.5\" y=\"-69.8\" font-family=\"Times,serif\" font-size=\"14.00\">data &#45;4.0000</text>\n<polyline fill=\"none\" stroke=\"black\" points=\"111,-55.5 111,-91.5 \"/>\n<text text-anchor=\"middle\" x=\"152\" y=\"-69.8\" font-family=\"Times,serif\" font-size=\"14.00\">grad 8.0000</text>\n</g>\n<!-- 139778927468448* -->\n<g id=\"node8\" class=\"node\">\n<title>139778927468448*</title>\n<ellipse fill=\"none\" stroke=\"black\" cx=\"259\" cy=\"-45.5\" rx=\"27\" ry=\"18\"/>\n<text text-anchor=\"middle\" x=\"259\" y=\"-41.8\" font-family=\"Times,serif\" font-size=\"14.00\">*</text>\n</g>\n<!-- 139778927468208&#45;&gt;139778927468448* -->\n<g id=\"edge9\" class=\"edge\">\n<title>139778927468208&#45;&gt;139778927468448*</title>\n<path fill=\"none\" stroke=\"black\" d=\"M193.33,-56.89C203.71,-55.06 213.74,-53.29 222.68,-51.72\"/>\n<polygon fill=\"black\" stroke=\"black\" points=\"223.39,-55.15 232.63,-49.97 222.17,-48.26 223.39,-55.15\"/>\n</g>\n<!-- 139778927464752 -->\n<g id=\"node5\" class=\"node\">\n<title>139778927464752</title>\n<polygon fill=\"none\" stroke=\"black\" points=\"0,-0.5 0,-36.5 196,-36.5 196,-0.5 0,-0.5\"/>\n<text text-anchor=\"middle\" x=\"11.5\" y=\"-14.8\" font-family=\"Times,serif\" font-size=\"14.00\">a</text>\n<polyline fill=\"none\" stroke=\"black\" points=\"23,-0.5 23,-36.5 \"/>\n<text text-anchor=\"middle\" x=\"63\" y=\"-14.8\" font-family=\"Times,serif\" font-size=\"14.00\">data 2.0000</text>\n<polyline fill=\"none\" stroke=\"black\" points=\"103,-0.5 103,-36.5 \"/>\n<text text-anchor=\"middle\" x=\"149.5\" y=\"-14.8\" font-family=\"Times,serif\" font-size=\"14.00\">grad &#45;16.0000</text>\n</g>\n<!-- 139778927464752&#45;&gt;139778927468448* -->\n<g id=\"edge6\" class=\"edge\">\n<title>139778927464752&#45;&gt;139778927468448*</title>\n<path fill=\"none\" stroke=\"black\" d=\"M196.07,-34.98C205.42,-36.57 214.43,-38.1 222.55,-39.48\"/>\n<polygon fill=\"black\" stroke=\"black\" points=\"222.21,-42.97 232.65,-41.2 223.38,-36.07 222.21,-42.97\"/>\n</g>\n<!-- 139778927466816 -->\n<g id=\"node6\" class=\"node\">\n<title>139778927466816</title>\n<polygon fill=\"none\" stroke=\"black\" points=\"324.5,-82.5 324.5,-118.5 509.5,-118.5 509.5,-82.5 324.5,-82.5\"/>\n<text text-anchor=\"middle\" x=\"336\" y=\"-96.8\" font-family=\"Times,serif\" font-size=\"14.00\">c</text>\n<polyline fill=\"none\" stroke=\"black\" points=\"347.5,-82.5 347.5,-118.5 \"/>\n<text text-anchor=\"middle\" x=\"387.5\" y=\"-96.8\" font-family=\"Times,serif\" font-size=\"14.00\">data 6.0000</text>\n<polyline fill=\"none\" stroke=\"black\" points=\"427.5,-82.5 427.5,-118.5 \"/>\n<text text-anchor=\"middle\" x=\"468.5\" y=\"-96.8\" font-family=\"Times,serif\" font-size=\"14.00\">grad 4.0000</text>\n</g>\n<!-- 139778927466816&#45;&gt;139778927467056+ -->\n<g id=\"edge4\" class=\"edge\">\n<title>139778927466816&#45;&gt;139778927467056+</title>\n<path fill=\"none\" stroke=\"black\" d=\"M509.65,-84.05C519.94,-82.2 529.91,-80.41 538.81,-78.82\"/>\n<polygon fill=\"black\" stroke=\"black\" points=\"539.48,-82.25 548.71,-77.04 538.25,-75.36 539.48,-82.25\"/>\n</g>\n<!-- 139778927468448 -->\n<g id=\"node7\" class=\"node\">\n<title>139778927468448</title>\n<polygon fill=\"none\" stroke=\"black\" points=\"322,-27.5 322,-63.5 512,-63.5 512,-27.5 322,-27.5\"/>\n<text text-anchor=\"middle\" x=\"333.5\" y=\"-41.8\" font-family=\"Times,serif\" font-size=\"14.00\">d</text>\n<polyline fill=\"none\" stroke=\"black\" points=\"345,-27.5 345,-63.5 \"/>\n<text text-anchor=\"middle\" x=\"387.5\" y=\"-41.8\" font-family=\"Times,serif\" font-size=\"14.00\">data &#45;8.0000</text>\n<polyline fill=\"none\" stroke=\"black\" points=\"430,-27.5 430,-63.5 \"/>\n<text text-anchor=\"middle\" x=\"471\" y=\"-41.8\" font-family=\"Times,serif\" font-size=\"14.00\">grad 4.0000</text>\n</g>\n<!-- 139778927468448&#45;&gt;139778927467056+ -->\n<g id=\"edge8\" class=\"edge\">\n<title>139778927468448&#45;&gt;139778927467056+</title>\n<path fill=\"none\" stroke=\"black\" d=\"M512.34,-61.83C521.62,-63.44 530.58,-64.99 538.66,-66.38\"/>\n<polygon fill=\"black\" stroke=\"black\" points=\"538.27,-69.87 548.72,-68.12 539.46,-62.97 538.27,-69.87\"/>\n</g>\n<!-- 139778927468448*&#45;&gt;139778927468448 -->\n<g id=\"edge2\" class=\"edge\">\n<title>139778927468448*&#45;&gt;139778927468448</title>\n<path fill=\"none\" stroke=\"black\" d=\"M286.11,-45.5C293.63,-45.5 302.32,-45.5 311.58,-45.5\"/>\n<polygon fill=\"black\" stroke=\"black\" points=\"311.81,-49 321.81,-45.5 311.81,-42 311.81,-49\"/>\n</g>\n<!-- 139778927466480 -->\n<g id=\"node9\" class=\"node\">\n<title>139778927466480</title>\n<polygon fill=\"none\" stroke=\"black\" points=\"954,-81.5 954,-117.5 1144,-117.5 1144,-81.5 954,-81.5\"/>\n<text text-anchor=\"middle\" x=\"965.5\" y=\"-95.8\" font-family=\"Times,serif\" font-size=\"14.00\">g</text>\n<polyline fill=\"none\" stroke=\"black\" points=\"977,-81.5 977,-117.5 \"/>\n<text text-anchor=\"middle\" x=\"1019.5\" y=\"-95.8\" font-family=\"Times,serif\" font-size=\"14.00\">data &#45;8.0000</text>\n<polyline fill=\"none\" stroke=\"black\" points=\"1062,-81.5 1062,-117.5 \"/>\n<text text-anchor=\"middle\" x=\"1103\" y=\"-95.8\" font-family=\"Times,serif\" font-size=\"14.00\">grad 1.0000</text>\n</g>\n<!-- 139778927466480*&#45;&gt;139778927466480 -->\n<g id=\"edge3\" class=\"edge\">\n<title>139778927466480*&#45;&gt;139778927466480</title>\n<path fill=\"none\" stroke=\"black\" d=\"M918.11,-99.5C925.63,-99.5 934.32,-99.5 943.58,-99.5\"/>\n<polygon fill=\"black\" stroke=\"black\" points=\"943.81,-103 953.81,-99.5 943.81,-96 943.81,-103\"/>\n</g>\n</g>\n</svg>\n"
          },
          "metadata": {},
          "execution_count": 264
        }
      ]
    }
  ]
}
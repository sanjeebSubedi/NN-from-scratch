{
  "nbformat": 4,
  "nbformat_minor": 0,
  "metadata": {
    "colab": {
      "provenance": []
    },
    "kernelspec": {
      "name": "python3",
      "display_name": "Python 3"
    },
    "language_info": {
      "name": "python"
    }
  },
  "cells": [
    {
      "cell_type": "code",
      "execution_count": 1,
      "metadata": {
        "id": "MV0liXgLUkC-"
      },
      "outputs": [],
      "source": [
        "import numpy as np\n",
        "import matplotlib.pyplot as plt\n",
        "import math"
      ]
    },
    {
      "cell_type": "code",
      "source": [
        "class Value:\n",
        "  def __init__(self, data, _parents=()):\n",
        "    assert isinstance(data, int) or isinstance(data, float), \"Data should be either integer or a float\"\n",
        "    self.data = data\n",
        "    self._parents = set(_parents)\n",
        "    self.grad = 0\n",
        "    self._backward = lambda: None\n",
        "\n",
        "  def verify_value(self, v):\n",
        "    if isinstance(v, int) or isinstance(v, float) :\n",
        "      return Value(v)\n",
        "    elif isinstance(v, Value):\n",
        "      return v\n",
        "    else:\n",
        "      raise ValueError(\"Value must either be integer or float\")\n",
        "\n",
        "  def __add__(self, addend):\n",
        "    addend = self.verify_value(addend)\n",
        "    res = Value(self.data + addend.data)\n",
        "    res._parents.update([self, addend])\n",
        "    def _backward():\n",
        "      self.grad += res.grad\n",
        "      addend.grad += res.grad\n",
        "    res._backward = _backward\n",
        "    return res\n",
        "\n",
        "  def __radd__(self, addend):\n",
        "    return self + addend\n",
        "  \n",
        "  def __sub__(self, sh):\n",
        "    return self + (-sh)\n",
        "  \n",
        "  def __mul__(self, multiplier):\n",
        "    multiplier = self.verify_value(multiplier)\n",
        "    res = Value(self.data * multiplier.data)\n",
        "    res._parents.update([self, multiplier])\n",
        "    def _backward():\n",
        "      self.grad += multiplier.data * res.grad\n",
        "      multiplier.grad += self.data * res.grad\n",
        "    res._backward = _backward\n",
        "    return res\n",
        "\n",
        "  def __truediv__(self, divisor):\n",
        "    return self * (divisor ** -1)\n",
        "\n",
        "  def __pow__(self, num):\n",
        "    res = Value(math.pow(self.data, num))\n",
        "    res._parents.add(self)\n",
        "    def _backward():\n",
        "      self.grad += ((num)*math.pow(self.data, num-1)) * res.grad\n",
        "    res._backward = _backward\n",
        "    return res\n",
        "\n",
        "  def tanh(self):\n",
        "    e = math.exp(2*self.data)\n",
        "    res = (e - 1)/(e + 1); res = Value(res)\n",
        "    res._parents.add(self)\n",
        "    def _backward():\n",
        "      self.grad += (1 - res.data ** 2) * res.grad\n",
        "    res._backward = _backward\n",
        "    return res\n",
        "  \n",
        "  def backward(self):\n",
        "    back_path = []\n",
        "    visited = set()\n",
        "\n",
        "    def back_flood(node):\n",
        "      if node not in visited:\n",
        "        visited.add(node)\n",
        "        for parent in node._parents:\n",
        "          back_flood(parent)\n",
        "        back_path.append(node)\n",
        "    back_flood(self)\n",
        "    self.grad = 1.0\n",
        "    print(\"Output gradient set to 1\")\n",
        "    for node in reversed(back_path):\n",
        "      node._backward()\n",
        "\n",
        "  def __repr__(self):\n",
        "    return f\"Value(data={self.data})\""
      ],
      "metadata": {
        "id": "MTWXZ1GYUxbM"
      },
      "execution_count": 179,
      "outputs": []
    },
    {
      "cell_type": "code",
      "source": [
        "import random \n",
        "\n",
        "class Neuron:\n",
        "  def __init__(self, num_inputs):\n",
        "    self.weights = [Value(random.uniform(-1, 1)) for _ in range(num_inputs)]\n",
        "    self.bias = Value(random.uniform(-1,1))\n",
        "\n",
        "  def __call__(self, inputs):\n",
        "    sum_wx = Value(0.0)\n",
        "    for inp, weight in zip(inputs, self.weights):\n",
        "      sum_wx.data += (inp.data * weight.data)\n",
        "    sum_wx += self.bias\n",
        "    return sum_wx.tanh()\n",
        "\n",
        "inputs = [Value(2.0), Value(3.0)]\n",
        "n = Neuron(2)\n",
        "n(inputs)\n"
      ],
      "metadata": {
        "colab": {
          "base_uri": "https://localhost:8080/"
        },
        "id": "4R9LwomMFAnG",
        "outputId": "ff0b8306-e5d5-463b-d43e-a21539c4fc8a"
      },
      "execution_count": 189,
      "outputs": [
        {
          "output_type": "execute_result",
          "data": {
            "text/plain": [
              "Value(data=-0.9990272512279312)"
            ]
          },
          "metadata": {},
          "execution_count": 189
        }
      ]
    },
    {
      "cell_type": "code",
      "source": [
        "class Layer:\n",
        "  def __init__(self, num_inputs, num_out):\n",
        "    self.neurons = [Neuron(num_inputs) for _ in range(num_out)]\n",
        "\n",
        "  def __call__(self, x):\n",
        "    out = [neuron(x) for neuron in self.neurons]\n",
        "    return out\n",
        "  \n",
        "inputs = [Value(2.0), Value(3.0)]\n",
        "n = Layer(2,3)\n",
        "n(inputs)"
      ],
      "metadata": {
        "colab": {
          "base_uri": "https://localhost:8080/"
        },
        "id": "ARUijwxFJY80",
        "outputId": "d5d4febf-6d97-4be0-d2b1-ea65b9b7f3e7"
      },
      "execution_count": 197,
      "outputs": [
        {
          "output_type": "execute_result",
          "data": {
            "text/plain": [
              "[Value(data=-0.998254862728444),\n",
              " Value(data=-0.005235674768969682),\n",
              " Value(data=0.15678641702157337)]"
            ]
          },
          "metadata": {},
          "execution_count": 197
        }
      ]
    },
    {
      "cell_type": "code",
      "source": [
        "# checking tanh and its backward implementation\n",
        "a = Value(2)\n",
        "b = Value(-4)\n",
        "c = Value(6)\n",
        "d = a * b;\n",
        "e = d+c;\n",
        "f = Value(4)\n",
        "g =  e * f;\n",
        "h = g.tanh()"
      ],
      "metadata": {
        "id": "BlW8KOjUWV3i"
      },
      "execution_count": 192,
      "outputs": []
    },
    {
      "cell_type": "code",
      "source": [
        "h.grad = 1.0\n",
        "h.backward()"
      ],
      "metadata": {
        "id": "MRj_cQkFjcw1"
      },
      "execution_count": 88,
      "outputs": []
    },
    {
      "cell_type": "code",
      "source": [
        "print(h.grad)\n",
        "for parent in h._parents:\n",
        "  print(parent, parent.grad)"
      ],
      "metadata": {
        "colab": {
          "base_uri": "https://localhost:8080/"
        },
        "id": "wxav-g3XjgCX",
        "outputId": "504e2488-f317-471e-8069-058dc248d8da"
      },
      "execution_count": 90,
      "outputs": [
        {
          "output_type": "stream",
          "name": "stdout",
          "text": [
            "0\n",
            "Value(data=-8) 0\n"
          ]
        }
      ]
    },
    {
      "cell_type": "code",
      "source": [
        "x1 = Value(2.0)\n",
        "x2 = Value(0.0)\n",
        "\n",
        "w1 = Value(-3.0)\n",
        "w2 = Value(1.0)\n",
        "\n",
        "b = Value(6.8813735870195432)\n",
        "\n",
        "xw1 = x1 * w1\n",
        "xw2 = x2 * w2\n",
        "xw1xw2 = xw1 + xw2\n",
        "p = xw1xw2 + b\n",
        "q = p.tanh()"
      ],
      "metadata": {
        "id": "_tL3nIiTkKi2"
      },
      "execution_count": 128,
      "outputs": []
    },
    {
      "cell_type": "code",
      "source": [
        "q.backward()"
      ],
      "metadata": {
        "colab": {
          "base_uri": "https://localhost:8080/"
        },
        "id": "K-ZQnKtksADf",
        "outputId": "8086ba14-cdd0-4313-a1ec-d4c79ccacef1"
      },
      "execution_count": 129,
      "outputs": [
        {
          "output_type": "stream",
          "name": "stdout",
          "text": [
            "Backward called\n",
            "Gradient set to 1\n"
          ]
        }
      ]
    },
    {
      "cell_type": "code",
      "source": [
        "print(xw1.data, xw1.grad)\n",
        "print(xw2.data, xw2.grad)"
      ],
      "metadata": {
        "colab": {
          "base_uri": "https://localhost:8080/"
        },
        "id": "sCJEtEKcxpyF",
        "outputId": "dc3ca4f6-7a9e-468e-e99b-e0746c01a67f"
      },
      "execution_count": 134,
      "outputs": [
        {
          "output_type": "stream",
          "name": "stdout",
          "text": [
            "-6.0 0.4999999999999999\n",
            "0.0 0.4999999999999999\n"
          ]
        }
      ]
    },
    {
      "cell_type": "code",
      "source": [
        "print(x1, x1.grad)\n",
        "print(x2, x2.grad)\n",
        "print(w1, w1.grad)\n",
        "print(w2, w2.grad)"
      ],
      "metadata": {
        "colab": {
          "base_uri": "https://localhost:8080/"
        },
        "id": "8jyBEerLxrH6",
        "outputId": "34d0faf3-b1b2-4fdf-835b-972ed576f796"
      },
      "execution_count": 135,
      "outputs": [
        {
          "output_type": "stream",
          "name": "stdout",
          "text": [
            "Value(data=2.0) -1.4999999999999996\n",
            "Value(data=0.0) 0.4999999999999999\n",
            "Value(data=-3.0) 0.9999999999999998\n",
            "Value(data=1.0) 0.0\n"
          ]
        }
      ]
    },
    {
      "cell_type": "code",
      "source": [
        "# checking power fuction and its backward implementation\n",
        "\n",
        "a = Value(-2.0)\n",
        "b = Value(3.0)\n",
        "d = a * b\n",
        "e = a + b\n",
        "f = d * e\n",
        "g = f ** 2\n",
        "g.backward()"
      ],
      "metadata": {
        "colab": {
          "base_uri": "https://localhost:8080/"
        },
        "id": "Ni6GRfEEyuQn",
        "outputId": "19b6847d-be02-477a-fc9c-41d4120e293d"
      },
      "execution_count": 175,
      "outputs": [
        {
          "output_type": "stream",
          "name": "stdout",
          "text": [
            "Output gradient set to 1\n"
          ]
        }
      ]
    },
    {
      "cell_type": "code",
      "source": [
        "print(g, g.grad)\n",
        "for parent in g._parents:\n",
        "  print(parent, parent.grad)"
      ],
      "metadata": {
        "colab": {
          "base_uri": "https://localhost:8080/"
        },
        "id": "Cob6uVQ9Dn89",
        "outputId": "c0a24d7e-ea30-44e0-8596-5c8422b2acf1"
      },
      "execution_count": 178,
      "outputs": [
        {
          "output_type": "stream",
          "name": "stdout",
          "text": [
            "Value(data=36.0) 1.0\n",
            "Value(data=-6.0) -12.0\n"
          ]
        }
      ]
    }
  ]
}